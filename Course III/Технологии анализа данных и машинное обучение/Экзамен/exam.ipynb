{
 "cells": [
  {
   "cell_type": "markdown",
   "metadata": {},
   "source": [
    "ПИ18-1 Гриднев Д.В.\n",
    "Номер 133\n",
    "Вариант 3.\n",
    "Построение модели и оптимизация гиперпараметров. Датасет: https://www.kaggle.com/shebrahimi/financial-distress"
   ]
  },
  {
   "cell_type": "code",
   "execution_count": 1,
   "metadata": {},
   "outputs": [],
   "source": [
    "import numpy as np\n",
    "import pandas as pd\n",
    "from sklearn.ensemble import RandomForestRegressor\n",
    "from sklearn.model_selection import GridSearchCV, train_test_split\n",
    "from sklearn import ensemble\n",
    "from sklearn.ensemble import RandomForestRegressor\n",
    "from sklearn.metrics import mean_squared_error\n",
    "from xgboost import XGBRegressor\n",
    "import matplotlib.pyplot as plt\n",
    "import seaborn as sns\n",
    "\n",
    "plt.style.use(\"seaborn\")"
   ]
  },
  {
   "cell_type": "code",
   "execution_count": 2,
   "metadata": {
    "scrolled": true
   },
   "outputs": [
    {
     "data": {
      "text/html": [
       "<div>\n",
       "<style scoped>\n",
       "    .dataframe tbody tr th:only-of-type {\n",
       "        vertical-align: middle;\n",
       "    }\n",
       "\n",
       "    .dataframe tbody tr th {\n",
       "        vertical-align: top;\n",
       "    }\n",
       "\n",
       "    .dataframe thead th {\n",
       "        text-align: right;\n",
       "    }\n",
       "</style>\n",
       "<table border=\"1\" class=\"dataframe\">\n",
       "  <thead>\n",
       "    <tr style=\"text-align: right;\">\n",
       "      <th></th>\n",
       "      <th>Company</th>\n",
       "      <th>Time</th>\n",
       "      <th>Financial Distress</th>\n",
       "      <th>x1</th>\n",
       "      <th>x2</th>\n",
       "      <th>x3</th>\n",
       "      <th>x4</th>\n",
       "      <th>x5</th>\n",
       "      <th>x6</th>\n",
       "      <th>x7</th>\n",
       "      <th>...</th>\n",
       "      <th>x74</th>\n",
       "      <th>x75</th>\n",
       "      <th>x76</th>\n",
       "      <th>x77</th>\n",
       "      <th>x78</th>\n",
       "      <th>x79</th>\n",
       "      <th>x80</th>\n",
       "      <th>x81</th>\n",
       "      <th>x82</th>\n",
       "      <th>x83</th>\n",
       "    </tr>\n",
       "  </thead>\n",
       "  <tbody>\n",
       "    <tr>\n",
       "      <th>0</th>\n",
       "      <td>1</td>\n",
       "      <td>1</td>\n",
       "      <td>0.010636</td>\n",
       "      <td>1.2810</td>\n",
       "      <td>0.022934</td>\n",
       "      <td>0.87454</td>\n",
       "      <td>1.21640</td>\n",
       "      <td>0.060940</td>\n",
       "      <td>0.188270</td>\n",
       "      <td>0.52510</td>\n",
       "      <td>...</td>\n",
       "      <td>85.437</td>\n",
       "      <td>27.07</td>\n",
       "      <td>26.102</td>\n",
       "      <td>16.000</td>\n",
       "      <td>16.0</td>\n",
       "      <td>0.2</td>\n",
       "      <td>22</td>\n",
       "      <td>0.060390</td>\n",
       "      <td>30</td>\n",
       "      <td>49</td>\n",
       "    </tr>\n",
       "    <tr>\n",
       "      <th>1</th>\n",
       "      <td>1</td>\n",
       "      <td>2</td>\n",
       "      <td>-0.455970</td>\n",
       "      <td>1.2700</td>\n",
       "      <td>0.006454</td>\n",
       "      <td>0.82067</td>\n",
       "      <td>1.00490</td>\n",
       "      <td>-0.014080</td>\n",
       "      <td>0.181040</td>\n",
       "      <td>0.62288</td>\n",
       "      <td>...</td>\n",
       "      <td>107.090</td>\n",
       "      <td>31.31</td>\n",
       "      <td>30.194</td>\n",
       "      <td>17.000</td>\n",
       "      <td>16.0</td>\n",
       "      <td>0.4</td>\n",
       "      <td>22</td>\n",
       "      <td>0.010636</td>\n",
       "      <td>31</td>\n",
       "      <td>50</td>\n",
       "    </tr>\n",
       "    <tr>\n",
       "      <th>2</th>\n",
       "      <td>1</td>\n",
       "      <td>3</td>\n",
       "      <td>-0.325390</td>\n",
       "      <td>1.0529</td>\n",
       "      <td>-0.059379</td>\n",
       "      <td>0.92242</td>\n",
       "      <td>0.72926</td>\n",
       "      <td>0.020476</td>\n",
       "      <td>0.044865</td>\n",
       "      <td>0.43292</td>\n",
       "      <td>...</td>\n",
       "      <td>120.870</td>\n",
       "      <td>36.07</td>\n",
       "      <td>35.273</td>\n",
       "      <td>17.000</td>\n",
       "      <td>15.0</td>\n",
       "      <td>-0.2</td>\n",
       "      <td>22</td>\n",
       "      <td>-0.455970</td>\n",
       "      <td>32</td>\n",
       "      <td>51</td>\n",
       "    </tr>\n",
       "    <tr>\n",
       "      <th>3</th>\n",
       "      <td>1</td>\n",
       "      <td>4</td>\n",
       "      <td>-0.566570</td>\n",
       "      <td>1.1131</td>\n",
       "      <td>-0.015229</td>\n",
       "      <td>0.85888</td>\n",
       "      <td>0.80974</td>\n",
       "      <td>0.076037</td>\n",
       "      <td>0.091033</td>\n",
       "      <td>0.67546</td>\n",
       "      <td>...</td>\n",
       "      <td>54.806</td>\n",
       "      <td>39.80</td>\n",
       "      <td>38.377</td>\n",
       "      <td>17.167</td>\n",
       "      <td>16.0</td>\n",
       "      <td>5.6</td>\n",
       "      <td>22</td>\n",
       "      <td>-0.325390</td>\n",
       "      <td>33</td>\n",
       "      <td>52</td>\n",
       "    </tr>\n",
       "    <tr>\n",
       "      <th>4</th>\n",
       "      <td>2</td>\n",
       "      <td>1</td>\n",
       "      <td>1.357300</td>\n",
       "      <td>1.0623</td>\n",
       "      <td>0.107020</td>\n",
       "      <td>0.81460</td>\n",
       "      <td>0.83593</td>\n",
       "      <td>0.199960</td>\n",
       "      <td>0.047800</td>\n",
       "      <td>0.74200</td>\n",
       "      <td>...</td>\n",
       "      <td>85.437</td>\n",
       "      <td>27.07</td>\n",
       "      <td>26.102</td>\n",
       "      <td>16.000</td>\n",
       "      <td>16.0</td>\n",
       "      <td>0.2</td>\n",
       "      <td>29</td>\n",
       "      <td>1.251000</td>\n",
       "      <td>7</td>\n",
       "      <td>27</td>\n",
       "    </tr>\n",
       "  </tbody>\n",
       "</table>\n",
       "<p>5 rows × 86 columns</p>\n",
       "</div>"
      ],
      "text/plain": [
       "   Company  Time  Financial Distress      x1        x2       x3       x4  \\\n",
       "0        1     1            0.010636  1.2810  0.022934  0.87454  1.21640   \n",
       "1        1     2           -0.455970  1.2700  0.006454  0.82067  1.00490   \n",
       "2        1     3           -0.325390  1.0529 -0.059379  0.92242  0.72926   \n",
       "3        1     4           -0.566570  1.1131 -0.015229  0.85888  0.80974   \n",
       "4        2     1            1.357300  1.0623  0.107020  0.81460  0.83593   \n",
       "\n",
       "         x5        x6       x7  ...      x74    x75     x76     x77   x78  \\\n",
       "0  0.060940  0.188270  0.52510  ...   85.437  27.07  26.102  16.000  16.0   \n",
       "1 -0.014080  0.181040  0.62288  ...  107.090  31.31  30.194  17.000  16.0   \n",
       "2  0.020476  0.044865  0.43292  ...  120.870  36.07  35.273  17.000  15.0   \n",
       "3  0.076037  0.091033  0.67546  ...   54.806  39.80  38.377  17.167  16.0   \n",
       "4  0.199960  0.047800  0.74200  ...   85.437  27.07  26.102  16.000  16.0   \n",
       "\n",
       "   x79  x80       x81  x82  x83  \n",
       "0  0.2   22  0.060390   30   49  \n",
       "1  0.4   22  0.010636   31   50  \n",
       "2 -0.2   22 -0.455970   32   51  \n",
       "3  5.6   22 -0.325390   33   52  \n",
       "4  0.2   29  1.251000    7   27  \n",
       "\n",
       "[5 rows x 86 columns]"
      ]
     },
     "execution_count": 2,
     "metadata": {},
     "output_type": "execute_result"
    }
   ],
   "source": [
    "df = pd.read_csv(\"./fd.csv\")\n",
    "df.head()"
   ]
  },
  {
   "cell_type": "markdown",
   "metadata": {},
   "source": [
    "Переменные чистить не трубуется"
   ]
  },
  {
   "cell_type": "code",
   "execution_count": 3,
   "metadata": {},
   "outputs": [
    {
     "data": {
      "text/plain": [
       "Company               0\n",
       "Time                  0\n",
       "Financial Distress    0\n",
       "x1                    0\n",
       "x2                    0\n",
       "                     ..\n",
       "x79                   0\n",
       "x80                   0\n",
       "x81                   0\n",
       "x82                   0\n",
       "x83                   0\n",
       "Length: 86, dtype: int64"
      ]
     },
     "execution_count": 3,
     "metadata": {},
     "output_type": "execute_result"
    }
   ],
   "source": [
    "df.isna().sum()"
   ]
  },
  {
   "cell_type": "markdown",
   "metadata": {},
   "source": [
    "Разбиваю датасест"
   ]
  },
  {
   "cell_type": "code",
   "execution_count": 4,
   "metadata": {},
   "outputs": [],
   "source": [
    "X = df[df.columns.difference([\"Financial Distress\"])]\n",
    "Y = df[\"Financial Distress\"]"
   ]
  },
  {
   "cell_type": "code",
   "execution_count": 5,
   "metadata": {},
   "outputs": [],
   "source": [
    "X_train, X_test, y_train, y_test = train_test_split(\n",
    "    X, Y, test_size=0.33, random_state=42\n",
    ")"
   ]
  },
  {
   "cell_type": "markdown",
   "metadata": {},
   "source": [
    "1. Построение модели\n",
    "Выбрал Random Forest, так как он в большенстве случаев дает лучшие результаты"
   ]
  },
  {
   "cell_type": "code",
   "execution_count": 6,
   "metadata": {},
   "outputs": [
    {
     "data": {
      "text/plain": [
       "RandomForestRegressor(criterion='mae', max_depth=12, n_estimators=150,\n",
       "                      n_jobs=-1)"
      ]
     },
     "execution_count": 6,
     "metadata": {},
     "output_type": "execute_result"
    }
   ],
   "source": [
    "reg = RandomForestRegressor(criterion='mae', max_depth=12, max_features='auto', n_estimators=150, n_jobs=-1)\n",
    "reg.fit(X_train, y_train)"
   ]
  },
  {
   "cell_type": "code",
   "execution_count": 7,
   "metadata": {
    "scrolled": true
   },
   "outputs": [
    {
     "data": {
      "text/plain": [
       "0.9170690788286889"
      ]
     },
     "execution_count": 7,
     "metadata": {},
     "output_type": "execute_result"
    }
   ],
   "source": [
    "reg.score(X_train, y_train)"
   ]
  },
  {
   "cell_type": "code",
   "execution_count": 8,
   "metadata": {},
   "outputs": [
    {
     "data": {
      "text/plain": [
       "0.14162702704063435"
      ]
     },
     "execution_count": 8,
     "metadata": {},
     "output_type": "execute_result"
    }
   ],
   "source": [
    "reg.score(X_test, y_test)"
   ]
  },
  {
   "cell_type": "markdown",
   "metadata": {},
   "source": [
    "2. Оптимизация гиперпараметров\n",
    "\n",
    "Обучение очень долгое, не могу сделать больше гиперпараметров"
   ]
  },
  {
   "cell_type": "code",
   "execution_count": 9,
   "metadata": {},
   "outputs": [],
   "source": [
    "reg = RandomForestRegressor()\n",
    "param_grid = {\n",
    "    \"n_estimators\": [50, 100],\n",
    "    \"criterion\": [\"mse\", \"mae\"],\n",
    "    \"max_depth\": [2, 3],\n",
    "    \"max_features\": [\"sqrt\", \"log2\"],\n",
    "}"
   ]
  },
  {
   "cell_type": "code",
   "execution_count": 10,
   "metadata": {},
   "outputs": [
    {
     "name": "stdout",
     "output_type": "stream",
     "text": [
      "Fitting 3 folds for each of 16 candidates, totalling 48 fits\n"
     ]
    },
    {
     "data": {
      "text/plain": [
       "GridSearchCV(cv=3, estimator=RandomForestRegressor(), n_jobs=-1,\n",
       "             param_grid={'criterion': ['mse', 'mae'], 'max_depth': [2, 3],\n",
       "                         'max_features': ['sqrt', 'log2'],\n",
       "                         'n_estimators': [50, 100]},\n",
       "             verbose=1)"
      ]
     },
     "execution_count": 10,
     "metadata": {},
     "output_type": "execute_result"
    }
   ],
   "source": [
    "GSCV_reg = GridSearchCV(reg, param_grid, n_jobs=-1, cv=3, verbose=1)\n",
    "GSCV_reg.fit(X_train, y_train)"
   ]
  },
  {
   "cell_type": "code",
   "execution_count": 14,
   "metadata": {},
   "outputs": [
    {
     "data": {
      "text/plain": [
       "{'criterion': 'mse',\n",
       " 'max_depth': 3,\n",
       " 'max_features': 'sqrt',\n",
       " 'n_estimators': 100}"
      ]
     },
     "execution_count": 14,
     "metadata": {},
     "output_type": "execute_result"
    }
   ],
   "source": [
    "GSCV_reg.best_params_"
   ]
  },
  {
   "cell_type": "markdown",
   "metadata": {},
   "source": [
    "Проверка "
   ]
  },
  {
   "cell_type": "code",
   "execution_count": 31,
   "metadata": {},
   "outputs": [
    {
     "data": {
      "text/plain": [
       "RandomForestRegressor(max_depth=3, max_features='sqrt', n_jobs=-1)"
      ]
     },
     "execution_count": 31,
     "metadata": {},
     "output_type": "execute_result"
    }
   ],
   "source": [
    "reg = RandomForestRegressor(criterion='mse', max_depth=3, max_features='sqrt', n_estimators=100, n_jobs=-1)\n",
    "reg.fit(X_train, y_train)"
   ]
  },
  {
   "cell_type": "code",
   "execution_count": 32,
   "metadata": {},
   "outputs": [
    {
     "data": {
      "text/plain": [
       "0.537294009147689"
      ]
     },
     "execution_count": 32,
     "metadata": {},
     "output_type": "execute_result"
    }
   ],
   "source": [
    "reg.score(X_train, y_train)"
   ]
  },
  {
   "cell_type": "code",
   "execution_count": 33,
   "metadata": {},
   "outputs": [
    {
     "data": {
      "text/plain": [
       "0.09247844200111432"
      ]
     },
     "execution_count": 33,
     "metadata": {},
     "output_type": "execute_result"
    }
   ],
   "source": [
    "reg.score(X_test, y_test)"
   ]
  },
  {
   "cell_type": "markdown",
   "metadata": {},
   "source": [
    "Скор упал, так как max_depth стал хуже. Ниже пример где в grid search вставляется правильный max_depth"
   ]
  },
  {
   "cell_type": "markdown",
   "metadata": {},
   "source": [
    "3. Модель использует CatBoostRegressor, на оптимизацию гиперпараметров не хватил времени"
   ]
  },
  {
   "cell_type": "code",
   "execution_count": 20,
   "metadata": {},
   "outputs": [
    {
     "name": "stdout",
     "output_type": "stream",
     "text": [
      "0:\tlearn: 1.3026846\ttotal: 1.76ms\tremaining: 1.17s\n",
      "1:\tlearn: 1.2361583\ttotal: 3.87ms\tremaining: 1.28s\n",
      "2:\tlearn: 1.2109847\ttotal: 5.39ms\tremaining: 1.19s\n",
      "3:\tlearn: 1.2004561\ttotal: 6.73ms\tremaining: 1.11s\n",
      "4:\tlearn: 1.1814547\ttotal: 8.59ms\tremaining: 1.14s\n",
      "5:\tlearn: 1.1583245\ttotal: 10.2ms\tremaining: 1.12s\n",
      "6:\tlearn: 1.1431603\ttotal: 10.9ms\tremaining: 1.02s\n",
      "7:\tlearn: 1.1332359\ttotal: 12.4ms\tremaining: 1.02s\n",
      "8:\tlearn: 1.1199246\ttotal: 13.4ms\tremaining: 977ms\n",
      "9:\tlearn: 1.1136475\ttotal: 14.4ms\tremaining: 944ms\n",
      "10:\tlearn: 1.1069488\ttotal: 15.3ms\tremaining: 913ms\n",
      "11:\tlearn: 1.0998055\ttotal: 16.2ms\tremaining: 883ms\n",
      "12:\tlearn: 1.0933293\ttotal: 17.4ms\tremaining: 872ms\n",
      "13:\tlearn: 1.0833985\ttotal: 18.8ms\tremaining: 874ms\n",
      "14:\tlearn: 1.0762936\ttotal: 20.2ms\tremaining: 875ms\n",
      "15:\tlearn: 1.0680696\ttotal: 21.5ms\tremaining: 872ms\n",
      "16:\tlearn: 1.0639185\ttotal: 22.2ms\tremaining: 847ms\n",
      "17:\tlearn: 1.0593151\ttotal: 23.3ms\tremaining: 839ms\n",
      "18:\tlearn: 1.0502133\ttotal: 24.3ms\tremaining: 829ms\n",
      "19:\tlearn: 1.0431589\ttotal: 25.3ms\tremaining: 817ms\n",
      "20:\tlearn: 1.0396820\ttotal: 26.7ms\tremaining: 820ms\n",
      "21:\tlearn: 1.0353661\ttotal: 28.1ms\tremaining: 822ms\n",
      "22:\tlearn: 1.0311784\ttotal: 29ms\tremaining: 810ms\n",
      "23:\tlearn: 1.0276170\ttotal: 30.1ms\tremaining: 804ms\n",
      "24:\tlearn: 1.0240649\ttotal: 31.2ms\tremaining: 799ms\n",
      "25:\tlearn: 1.0211415\ttotal: 32ms\tremaining: 789ms\n",
      "26:\tlearn: 1.0182114\ttotal: 32.9ms\tremaining: 779ms\n",
      "27:\tlearn: 1.0157211\ttotal: 34.2ms\tremaining: 780ms\n",
      "28:\tlearn: 1.0133320\ttotal: 35.2ms\tremaining: 773ms\n",
      "29:\tlearn: 1.0109932\ttotal: 35.9ms\tremaining: 760ms\n",
      "30:\tlearn: 1.0078015\ttotal: 36.8ms\tremaining: 753ms\n",
      "31:\tlearn: 1.0059839\ttotal: 38.2ms\tremaining: 757ms\n",
      "32:\tlearn: 1.0032950\ttotal: 38.9ms\tremaining: 746ms\n",
      "33:\tlearn: 1.0005741\ttotal: 39.9ms\tremaining: 742ms\n",
      "34:\tlearn: 0.9981644\ttotal: 41ms\tremaining: 740ms\n",
      "35:\tlearn: 0.9958187\ttotal: 42.2ms\tremaining: 739ms\n",
      "36:\tlearn: 0.9939569\ttotal: 43.3ms\tremaining: 737ms\n",
      "37:\tlearn: 0.9921024\ttotal: 44.2ms\tremaining: 730ms\n",
      "38:\tlearn: 0.9904669\ttotal: 44.8ms\tremaining: 721ms\n",
      "39:\tlearn: 0.9886326\ttotal: 45.5ms\tremaining: 713ms\n",
      "40:\tlearn: 0.9873884\ttotal: 46.8ms\tremaining: 713ms\n",
      "41:\tlearn: 0.9857792\ttotal: 47.6ms\tremaining: 707ms\n",
      "42:\tlearn: 0.9843695\ttotal: 48.3ms\tremaining: 699ms\n",
      "43:\tlearn: 0.9830057\ttotal: 49ms\tremaining: 693ms\n",
      "44:\tlearn: 0.9815163\ttotal: 49.9ms\tremaining: 688ms\n",
      "45:\tlearn: 0.9795420\ttotal: 50.6ms\tremaining: 682ms\n",
      "46:\tlearn: 0.9776122\ttotal: 51.1ms\tremaining: 674ms\n",
      "47:\tlearn: 0.9759335\ttotal: 51.7ms\tremaining: 666ms\n",
      "48:\tlearn: 0.9746125\ttotal: 52.8ms\tremaining: 664ms\n",
      "49:\tlearn: 0.9733799\ttotal: 53.5ms\tremaining: 659ms\n",
      "50:\tlearn: 0.9720262\ttotal: 54.2ms\tremaining: 653ms\n",
      "51:\tlearn: 0.9705976\ttotal: 55ms\tremaining: 649ms\n",
      "52:\tlearn: 0.9691268\ttotal: 56ms\tremaining: 648ms\n",
      "53:\tlearn: 0.9676348\ttotal: 56.8ms\tremaining: 644ms\n",
      "54:\tlearn: 0.9662947\ttotal: 57.4ms\tremaining: 637ms\n",
      "55:\tlearn: 0.9634047\ttotal: 58.1ms\tremaining: 633ms\n",
      "56:\tlearn: 0.9618790\ttotal: 58.7ms\tremaining: 627ms\n",
      "57:\tlearn: 0.9604217\ttotal: 59.3ms\tremaining: 622ms\n",
      "58:\tlearn: 0.9591100\ttotal: 60ms\tremaining: 618ms\n",
      "59:\tlearn: 0.9579191\ttotal: 60.9ms\tremaining: 615ms\n",
      "60:\tlearn: 0.9561785\ttotal: 62.1ms\tremaining: 616ms\n",
      "61:\tlearn: 0.9547571\ttotal: 63.1ms\tremaining: 614ms\n",
      "62:\tlearn: 0.9536457\ttotal: 63.9ms\tremaining: 611ms\n",
      "63:\tlearn: 0.9526141\ttotal: 64.6ms\tremaining: 607ms\n",
      "64:\tlearn: 0.9515043\ttotal: 65.5ms\tremaining: 606ms\n",
      "65:\tlearn: 0.9506842\ttotal: 67ms\tremaining: 609ms\n",
      "66:\tlearn: 0.9497071\ttotal: 68ms\tremaining: 608ms\n",
      "67:\tlearn: 0.9484358\ttotal: 68.8ms\tremaining: 605ms\n",
      "68:\tlearn: 0.9470907\ttotal: 69.6ms\tremaining: 602ms\n",
      "69:\tlearn: 0.9461211\ttotal: 70.4ms\tremaining: 600ms\n",
      "70:\tlearn: 0.9447823\ttotal: 71.5ms\tremaining: 599ms\n",
      "71:\tlearn: 0.9435741\ttotal: 72.2ms\tremaining: 596ms\n",
      "72:\tlearn: 0.9418600\ttotal: 72.9ms\tremaining: 593ms\n",
      "73:\tlearn: 0.9405818\ttotal: 73.6ms\tremaining: 589ms\n",
      "74:\tlearn: 0.9393839\ttotal: 74.6ms\tremaining: 588ms\n",
      "75:\tlearn: 0.9383934\ttotal: 75.2ms\tremaining: 584ms\n",
      "76:\tlearn: 0.9373499\ttotal: 75.8ms\tremaining: 579ms\n",
      "77:\tlearn: 0.9364040\ttotal: 76.6ms\tremaining: 577ms\n",
      "78:\tlearn: 0.9353492\ttotal: 77.1ms\tremaining: 573ms\n",
      "79:\tlearn: 0.9341799\ttotal: 77.8ms\tremaining: 570ms\n",
      "80:\tlearn: 0.9331134\ttotal: 78.4ms\tremaining: 566ms\n",
      "81:\tlearn: 0.9321350\ttotal: 79.1ms\tremaining: 563ms\n",
      "82:\tlearn: 0.9315278\ttotal: 79.7ms\tremaining: 560ms\n",
      "83:\tlearn: 0.9310350\ttotal: 80.6ms\tremaining: 559ms\n",
      "84:\tlearn: 0.9301083\ttotal: 81.2ms\tremaining: 555ms\n",
      "85:\tlearn: 0.9290981\ttotal: 81.9ms\tremaining: 552ms\n",
      "86:\tlearn: 0.9278134\ttotal: 82.8ms\tremaining: 551ms\n",
      "87:\tlearn: 0.9265319\ttotal: 83.5ms\tremaining: 548ms\n",
      "88:\tlearn: 0.9253947\ttotal: 84.5ms\tremaining: 548ms\n",
      "89:\tlearn: 0.9250320\ttotal: 85.3ms\tremaining: 546ms\n",
      "90:\tlearn: 0.9241523\ttotal: 86.1ms\tremaining: 544ms\n",
      "91:\tlearn: 0.9231188\ttotal: 86.8ms\tremaining: 542ms\n",
      "92:\tlearn: 0.9223366\ttotal: 87.8ms\tremaining: 541ms\n",
      "93:\tlearn: 0.9214066\ttotal: 88.4ms\tremaining: 538ms\n",
      "94:\tlearn: 0.9203960\ttotal: 89.4ms\tremaining: 537ms\n",
      "95:\tlearn: 0.9194332\ttotal: 90.3ms\tremaining: 536ms\n",
      "96:\tlearn: 0.9185473\ttotal: 91ms\tremaining: 534ms\n",
      "97:\tlearn: 0.9176675\ttotal: 91.8ms\tremaining: 532ms\n",
      "98:\tlearn: 0.9167055\ttotal: 92.7ms\tremaining: 531ms\n",
      "99:\tlearn: 0.9155477\ttotal: 93.6ms\tremaining: 530ms\n",
      "100:\tlearn: 0.9142580\ttotal: 94.9ms\tremaining: 531ms\n",
      "101:\tlearn: 0.9133915\ttotal: 95.6ms\tremaining: 529ms\n",
      "102:\tlearn: 0.9125507\ttotal: 96.2ms\tremaining: 526ms\n",
      "103:\tlearn: 0.9118354\ttotal: 96.9ms\tremaining: 524ms\n",
      "104:\tlearn: 0.9110448\ttotal: 97.6ms\tremaining: 522ms\n",
      "105:\tlearn: 0.9103462\ttotal: 98.2ms\tremaining: 519ms\n",
      "106:\tlearn: 0.9101369\ttotal: 98.9ms\tremaining: 517ms\n",
      "107:\tlearn: 0.9092992\ttotal: 100ms\tremaining: 517ms\n",
      "108:\tlearn: 0.9082550\ttotal: 101ms\tremaining: 516ms\n",
      "109:\tlearn: 0.9075853\ttotal: 102ms\tremaining: 515ms\n",
      "110:\tlearn: 0.9067660\ttotal: 103ms\tremaining: 514ms\n",
      "111:\tlearn: 0.9056845\ttotal: 104ms\tremaining: 512ms\n",
      "112:\tlearn: 0.9047324\ttotal: 104ms\tremaining: 509ms\n",
      "113:\tlearn: 0.9040082\ttotal: 105ms\tremaining: 507ms\n",
      "114:\tlearn: 0.9033571\ttotal: 105ms\tremaining: 504ms\n",
      "115:\tlearn: 0.9026017\ttotal: 106ms\tremaining: 502ms\n",
      "116:\tlearn: 0.9019271\ttotal: 107ms\tremaining: 501ms\n",
      "117:\tlearn: 0.9012519\ttotal: 108ms\tremaining: 501ms\n",
      "118:\tlearn: 0.8999674\ttotal: 109ms\tremaining: 502ms\n",
      "119:\tlearn: 0.8991588\ttotal: 110ms\tremaining: 500ms\n",
      "120:\tlearn: 0.8984630\ttotal: 110ms\tremaining: 498ms\n",
      "121:\tlearn: 0.8977114\ttotal: 111ms\tremaining: 497ms\n",
      "122:\tlearn: 0.8971767\ttotal: 112ms\tremaining: 495ms\n",
      "123:\tlearn: 0.8962401\ttotal: 113ms\tremaining: 493ms\n",
      "124:\tlearn: 0.8955872\ttotal: 113ms\tremaining: 491ms\n",
      "125:\tlearn: 0.8948218\ttotal: 114ms\tremaining: 490ms\n",
      "126:\tlearn: 0.8942601\ttotal: 115ms\tremaining: 489ms\n",
      "127:\tlearn: 0.8940767\ttotal: 116ms\tremaining: 487ms\n",
      "128:\tlearn: 0.8936264\ttotal: 117ms\tremaining: 487ms\n",
      "129:\tlearn: 0.8929844\ttotal: 118ms\tremaining: 486ms\n",
      "130:\tlearn: 0.8922747\ttotal: 119ms\tremaining: 485ms\n",
      "131:\tlearn: 0.8916669\ttotal: 120ms\tremaining: 483ms\n",
      "132:\tlearn: 0.8908040\ttotal: 120ms\tremaining: 482ms\n",
      "133:\tlearn: 0.8902045\ttotal: 121ms\tremaining: 481ms\n",
      "134:\tlearn: 0.8895572\ttotal: 122ms\tremaining: 480ms\n",
      "135:\tlearn: 0.8887102\ttotal: 123ms\tremaining: 481ms\n",
      "136:\tlearn: 0.8880807\ttotal: 124ms\tremaining: 479ms\n",
      "137:\tlearn: 0.8873396\ttotal: 125ms\tremaining: 477ms\n",
      "138:\tlearn: 0.8868701\ttotal: 125ms\tremaining: 475ms\n",
      "139:\tlearn: 0.8862014\ttotal: 126ms\tremaining: 473ms\n",
      "140:\tlearn: 0.8856033\ttotal: 127ms\tremaining: 471ms\n",
      "141:\tlearn: 0.8850154\ttotal: 127ms\tremaining: 470ms\n",
      "142:\tlearn: 0.8838260\ttotal: 128ms\tremaining: 468ms\n",
      "143:\tlearn: 0.8832025\ttotal: 129ms\tremaining: 466ms\n",
      "144:\tlearn: 0.8823886\ttotal: 129ms\tremaining: 465ms\n",
      "145:\tlearn: 0.8818309\ttotal: 130ms\tremaining: 465ms\n",
      "146:\tlearn: 0.8811973\ttotal: 131ms\tremaining: 463ms\n",
      "147:\tlearn: 0.8805247\ttotal: 132ms\tremaining: 461ms\n",
      "148:\tlearn: 0.8798569\ttotal: 132ms\tremaining: 460ms\n",
      "149:\tlearn: 0.8789542\ttotal: 133ms\tremaining: 458ms\n",
      "150:\tlearn: 0.8781488\ttotal: 134ms\tremaining: 456ms\n",
      "151:\tlearn: 0.8774998\ttotal: 135ms\tremaining: 456ms\n",
      "152:\tlearn: 0.8768726\ttotal: 135ms\tremaining: 454ms\n",
      "153:\tlearn: 0.8761816\ttotal: 136ms\tremaining: 453ms\n",
      "154:\tlearn: 0.8756268\ttotal: 137ms\tremaining: 452ms\n",
      "155:\tlearn: 0.8750655\ttotal: 138ms\tremaining: 450ms\n",
      "156:\tlearn: 0.8745950\ttotal: 138ms\tremaining: 449ms\n",
      "157:\tlearn: 0.8739015\ttotal: 139ms\tremaining: 447ms\n",
      "158:\tlearn: 0.8733755\ttotal: 140ms\tremaining: 445ms\n",
      "159:\tlearn: 0.8731454\ttotal: 140ms\tremaining: 444ms\n",
      "160:\tlearn: 0.8726217\ttotal: 141ms\tremaining: 442ms\n",
      "161:\tlearn: 0.8719057\ttotal: 142ms\tremaining: 441ms\n",
      "162:\tlearn: 0.8713153\ttotal: 142ms\tremaining: 439ms\n",
      "163:\tlearn: 0.8706498\ttotal: 143ms\tremaining: 438ms\n",
      "164:\tlearn: 0.8699591\ttotal: 144ms\tremaining: 438ms\n",
      "165:\tlearn: 0.8694617\ttotal: 145ms\tremaining: 437ms\n",
      "166:\tlearn: 0.8687007\ttotal: 146ms\tremaining: 436ms\n",
      "167:\tlearn: 0.8682482\ttotal: 147ms\tremaining: 435ms\n",
      "168:\tlearn: 0.8676179\ttotal: 147ms\tremaining: 433ms\n",
      "169:\tlearn: 0.8671013\ttotal: 148ms\tremaining: 433ms\n",
      "170:\tlearn: 0.8664798\ttotal: 149ms\tremaining: 431ms\n",
      "171:\tlearn: 0.8659949\ttotal: 150ms\tremaining: 430ms\n",
      "172:\tlearn: 0.8655067\ttotal: 151ms\tremaining: 429ms\n",
      "173:\tlearn: 0.8649987\ttotal: 151ms\tremaining: 428ms\n",
      "174:\tlearn: 0.8645161\ttotal: 152ms\tremaining: 427ms\n",
      "175:\tlearn: 0.8640208\ttotal: 153ms\tremaining: 426ms\n",
      "176:\tlearn: 0.8634532\ttotal: 153ms\tremaining: 424ms\n",
      "177:\tlearn: 0.8628140\ttotal: 154ms\tremaining: 423ms\n",
      "178:\tlearn: 0.8624028\ttotal: 155ms\tremaining: 421ms\n",
      "179:\tlearn: 0.8619801\ttotal: 155ms\tremaining: 420ms\n",
      "180:\tlearn: 0.8614706\ttotal: 156ms\tremaining: 418ms\n",
      "181:\tlearn: 0.8608534\ttotal: 157ms\tremaining: 417ms\n",
      "182:\tlearn: 0.8603697\ttotal: 157ms\tremaining: 415ms\n",
      "183:\tlearn: 0.8597944\ttotal: 158ms\tremaining: 414ms\n",
      "184:\tlearn: 0.8594532\ttotal: 159ms\tremaining: 414ms\n",
      "185:\tlearn: 0.8589618\ttotal: 160ms\tremaining: 413ms\n",
      "186:\tlearn: 0.8585186\ttotal: 161ms\tremaining: 412ms\n",
      "187:\tlearn: 0.8578763\ttotal: 162ms\tremaining: 411ms\n",
      "188:\tlearn: 0.8574090\ttotal: 162ms\tremaining: 410ms\n",
      "189:\tlearn: 0.8568124\ttotal: 163ms\tremaining: 408ms\n",
      "190:\tlearn: 0.8562596\ttotal: 164ms\tremaining: 407ms\n",
      "191:\tlearn: 0.8556084\ttotal: 164ms\tremaining: 406ms\n",
      "192:\tlearn: 0.8551185\ttotal: 165ms\tremaining: 405ms\n",
      "193:\tlearn: 0.8546057\ttotal: 166ms\tremaining: 403ms\n",
      "194:\tlearn: 0.8542462\ttotal: 166ms\tremaining: 402ms\n",
      "195:\tlearn: 0.8536798\ttotal: 167ms\tremaining: 400ms\n",
      "196:\tlearn: 0.8531617\ttotal: 168ms\tremaining: 399ms\n",
      "197:\tlearn: 0.8523973\ttotal: 169ms\tremaining: 398ms\n",
      "198:\tlearn: 0.8519644\ttotal: 169ms\tremaining: 397ms\n",
      "199:\tlearn: 0.8514598\ttotal: 170ms\tremaining: 397ms\n",
      "200:\tlearn: 0.8511310\ttotal: 171ms\tremaining: 396ms\n",
      "201:\tlearn: 0.8506350\ttotal: 172ms\tremaining: 396ms\n",
      "202:\tlearn: 0.8499839\ttotal: 173ms\tremaining: 395ms\n",
      "203:\tlearn: 0.8496719\ttotal: 174ms\tremaining: 395ms\n",
      "204:\tlearn: 0.8492044\ttotal: 175ms\tremaining: 393ms\n",
      "205:\tlearn: 0.8486617\ttotal: 176ms\tremaining: 392ms\n",
      "206:\tlearn: 0.8481764\ttotal: 177ms\tremaining: 392ms\n",
      "207:\tlearn: 0.8476963\ttotal: 178ms\tremaining: 391ms\n",
      "208:\tlearn: 0.8472721\ttotal: 178ms\tremaining: 390ms\n"
     ]
    },
    {
     "name": "stdout",
     "output_type": "stream",
     "text": [
      "209:\tlearn: 0.8468097\ttotal: 180ms\tremaining: 390ms\n",
      "210:\tlearn: 0.8462847\ttotal: 181ms\tremaining: 390ms\n",
      "211:\tlearn: 0.8457639\ttotal: 182ms\tremaining: 390ms\n",
      "212:\tlearn: 0.8453533\ttotal: 183ms\tremaining: 390ms\n",
      "213:\tlearn: 0.8448871\ttotal: 185ms\tremaining: 390ms\n",
      "214:\tlearn: 0.8445275\ttotal: 186ms\tremaining: 389ms\n",
      "215:\tlearn: 0.8442283\ttotal: 187ms\tremaining: 389ms\n",
      "216:\tlearn: 0.8438291\ttotal: 188ms\tremaining: 388ms\n",
      "217:\tlearn: 0.8435247\ttotal: 189ms\tremaining: 389ms\n",
      "218:\tlearn: 0.8433043\ttotal: 191ms\tremaining: 390ms\n",
      "219:\tlearn: 0.8429599\ttotal: 192ms\tremaining: 390ms\n",
      "220:\tlearn: 0.8424269\ttotal: 194ms\tremaining: 390ms\n",
      "221:\tlearn: 0.8421236\ttotal: 195ms\tremaining: 390ms\n",
      "222:\tlearn: 0.8416942\ttotal: 196ms\tremaining: 390ms\n",
      "223:\tlearn: 0.8412692\ttotal: 198ms\tremaining: 390ms\n",
      "224:\tlearn: 0.8405419\ttotal: 199ms\tremaining: 390ms\n",
      "225:\tlearn: 0.8400223\ttotal: 200ms\tremaining: 390ms\n",
      "226:\tlearn: 0.8395274\ttotal: 202ms\tremaining: 391ms\n",
      "227:\tlearn: 0.8390257\ttotal: 204ms\tremaining: 391ms\n",
      "228:\tlearn: 0.8384765\ttotal: 205ms\tremaining: 392ms\n",
      "229:\tlearn: 0.8380023\ttotal: 207ms\tremaining: 392ms\n",
      "230:\tlearn: 0.8375243\ttotal: 208ms\tremaining: 392ms\n",
      "231:\tlearn: 0.8371081\ttotal: 210ms\tremaining: 392ms\n",
      "232:\tlearn: 0.8366398\ttotal: 211ms\tremaining: 393ms\n",
      "233:\tlearn: 0.8362499\ttotal: 213ms\tremaining: 393ms\n",
      "234:\tlearn: 0.8359185\ttotal: 215ms\tremaining: 393ms\n",
      "235:\tlearn: 0.8355952\ttotal: 216ms\tremaining: 394ms\n",
      "236:\tlearn: 0.8351414\ttotal: 218ms\tremaining: 394ms\n",
      "237:\tlearn: 0.8347448\ttotal: 219ms\tremaining: 395ms\n",
      "238:\tlearn: 0.8342249\ttotal: 222ms\tremaining: 396ms\n",
      "239:\tlearn: 0.8336343\ttotal: 223ms\tremaining: 396ms\n",
      "240:\tlearn: 0.8332026\ttotal: 225ms\tremaining: 396ms\n",
      "241:\tlearn: 0.8327671\ttotal: 226ms\tremaining: 396ms\n",
      "242:\tlearn: 0.8322802\ttotal: 228ms\tremaining: 396ms\n",
      "243:\tlearn: 0.8318529\ttotal: 229ms\tremaining: 396ms\n",
      "244:\tlearn: 0.8313859\ttotal: 231ms\tremaining: 397ms\n",
      "245:\tlearn: 0.8310393\ttotal: 234ms\tremaining: 399ms\n",
      "246:\tlearn: 0.8306710\ttotal: 236ms\tremaining: 400ms\n",
      "247:\tlearn: 0.8303559\ttotal: 238ms\tremaining: 402ms\n",
      "248:\tlearn: 0.8299372\ttotal: 241ms\tremaining: 404ms\n",
      "249:\tlearn: 0.8294602\ttotal: 243ms\tremaining: 405ms\n",
      "250:\tlearn: 0.8289357\ttotal: 246ms\tremaining: 407ms\n",
      "251:\tlearn: 0.8285368\ttotal: 248ms\tremaining: 408ms\n",
      "252:\tlearn: 0.8281434\ttotal: 250ms\tremaining: 409ms\n",
      "253:\tlearn: 0.8277032\ttotal: 252ms\tremaining: 408ms\n",
      "254:\tlearn: 0.8273675\ttotal: 253ms\tremaining: 408ms\n",
      "255:\tlearn: 0.8269298\ttotal: 255ms\tremaining: 408ms\n",
      "256:\tlearn: 0.8265063\ttotal: 257ms\tremaining: 409ms\n",
      "257:\tlearn: 0.8260287\ttotal: 258ms\tremaining: 409ms\n",
      "258:\tlearn: 0.8255891\ttotal: 260ms\tremaining: 408ms\n",
      "259:\tlearn: 0.8252259\ttotal: 262ms\tremaining: 409ms\n",
      "260:\tlearn: 0.8248133\ttotal: 264ms\tremaining: 409ms\n",
      "261:\tlearn: 0.8245001\ttotal: 265ms\tremaining: 409ms\n",
      "262:\tlearn: 0.8240671\ttotal: 267ms\tremaining: 410ms\n",
      "263:\tlearn: 0.8236013\ttotal: 269ms\tremaining: 409ms\n",
      "264:\tlearn: 0.8232201\ttotal: 270ms\tremaining: 408ms\n",
      "265:\tlearn: 0.8228823\ttotal: 272ms\tremaining: 409ms\n",
      "266:\tlearn: 0.8225750\ttotal: 273ms\tremaining: 408ms\n",
      "267:\tlearn: 0.8221232\ttotal: 275ms\tremaining: 408ms\n",
      "268:\tlearn: 0.8217482\ttotal: 277ms\tremaining: 408ms\n",
      "269:\tlearn: 0.8213601\ttotal: 278ms\tremaining: 408ms\n",
      "270:\tlearn: 0.8208680\ttotal: 279ms\tremaining: 407ms\n",
      "271:\tlearn: 0.8203687\ttotal: 281ms\tremaining: 407ms\n",
      "272:\tlearn: 0.8199720\ttotal: 282ms\tremaining: 406ms\n",
      "273:\tlearn: 0.8194489\ttotal: 284ms\tremaining: 406ms\n",
      "274:\tlearn: 0.8189903\ttotal: 285ms\tremaining: 405ms\n",
      "275:\tlearn: 0.8183829\ttotal: 286ms\tremaining: 404ms\n",
      "276:\tlearn: 0.8177351\ttotal: 287ms\tremaining: 404ms\n",
      "277:\tlearn: 0.8174727\ttotal: 289ms\tremaining: 403ms\n",
      "278:\tlearn: 0.8171445\ttotal: 290ms\tremaining: 402ms\n",
      "279:\tlearn: 0.8168354\ttotal: 292ms\tremaining: 403ms\n",
      "280:\tlearn: 0.8163201\ttotal: 294ms\tremaining: 403ms\n",
      "281:\tlearn: 0.8158223\ttotal: 296ms\tremaining: 403ms\n",
      "282:\tlearn: 0.8154206\ttotal: 298ms\tremaining: 403ms\n",
      "283:\tlearn: 0.8151934\ttotal: 299ms\tremaining: 403ms\n",
      "284:\tlearn: 0.8148336\ttotal: 302ms\tremaining: 403ms\n",
      "285:\tlearn: 0.8143955\ttotal: 304ms\tremaining: 403ms\n",
      "286:\tlearn: 0.8138725\ttotal: 305ms\tremaining: 403ms\n",
      "287:\tlearn: 0.8133979\ttotal: 307ms\tremaining: 402ms\n",
      "288:\tlearn: 0.8129636\ttotal: 308ms\tremaining: 402ms\n",
      "289:\tlearn: 0.8126057\ttotal: 309ms\tremaining: 401ms\n",
      "290:\tlearn: 0.8122337\ttotal: 310ms\tremaining: 400ms\n",
      "291:\tlearn: 0.8119353\ttotal: 311ms\tremaining: 399ms\n",
      "292:\tlearn: 0.8116450\ttotal: 312ms\tremaining: 397ms\n",
      "293:\tlearn: 0.8112728\ttotal: 314ms\tremaining: 397ms\n",
      "294:\tlearn: 0.8109665\ttotal: 315ms\tremaining: 396ms\n",
      "295:\tlearn: 0.8106877\ttotal: 317ms\tremaining: 396ms\n",
      "296:\tlearn: 0.8105372\ttotal: 318ms\tremaining: 395ms\n",
      "297:\tlearn: 0.8101768\ttotal: 319ms\tremaining: 393ms\n",
      "298:\tlearn: 0.8097680\ttotal: 320ms\tremaining: 392ms\n",
      "299:\tlearn: 0.8094725\ttotal: 321ms\tremaining: 391ms\n",
      "300:\tlearn: 0.8091628\ttotal: 322ms\tremaining: 390ms\n",
      "301:\tlearn: 0.8088431\ttotal: 323ms\tremaining: 390ms\n",
      "302:\tlearn: 0.8085528\ttotal: 324ms\tremaining: 389ms\n",
      "303:\tlearn: 0.8082623\ttotal: 325ms\tremaining: 387ms\n",
      "304:\tlearn: 0.8078922\ttotal: 326ms\tremaining: 386ms\n",
      "305:\tlearn: 0.8076080\ttotal: 327ms\tremaining: 385ms\n",
      "306:\tlearn: 0.8071333\ttotal: 328ms\tremaining: 383ms\n",
      "307:\tlearn: 0.8065105\ttotal: 329ms\tremaining: 382ms\n",
      "308:\tlearn: 0.8062829\ttotal: 330ms\tremaining: 381ms\n",
      "309:\tlearn: 0.8059633\ttotal: 331ms\tremaining: 380ms\n",
      "310:\tlearn: 0.8057006\ttotal: 332ms\tremaining: 379ms\n",
      "311:\tlearn: 0.8053774\ttotal: 333ms\tremaining: 377ms\n",
      "312:\tlearn: 0.8050475\ttotal: 333ms\tremaining: 376ms\n",
      "313:\tlearn: 0.8046955\ttotal: 334ms\tremaining: 374ms\n",
      "314:\tlearn: 0.8043745\ttotal: 335ms\tremaining: 373ms\n",
      "315:\tlearn: 0.8040933\ttotal: 336ms\tremaining: 372ms\n",
      "316:\tlearn: 0.8037930\ttotal: 338ms\tremaining: 372ms\n",
      "317:\tlearn: 0.8032954\ttotal: 340ms\tremaining: 372ms\n",
      "318:\tlearn: 0.8028922\ttotal: 341ms\tremaining: 371ms\n",
      "319:\tlearn: 0.8025856\ttotal: 343ms\tremaining: 371ms\n",
      "320:\tlearn: 0.8022348\ttotal: 345ms\tremaining: 370ms\n",
      "321:\tlearn: 0.8018658\ttotal: 347ms\tremaining: 370ms\n",
      "322:\tlearn: 0.8016439\ttotal: 348ms\tremaining: 370ms\n",
      "323:\tlearn: 0.8014967\ttotal: 350ms\tremaining: 369ms\n",
      "324:\tlearn: 0.8012065\ttotal: 351ms\tremaining: 368ms\n",
      "325:\tlearn: 0.8008889\ttotal: 353ms\tremaining: 368ms\n",
      "326:\tlearn: 0.8004498\ttotal: 355ms\tremaining: 368ms\n",
      "327:\tlearn: 0.7999340\ttotal: 356ms\tremaining: 367ms\n",
      "328:\tlearn: 0.7996458\ttotal: 357ms\tremaining: 365ms\n",
      "329:\tlearn: 0.7992087\ttotal: 358ms\tremaining: 364ms\n",
      "330:\tlearn: 0.7988442\ttotal: 359ms\tremaining: 363ms\n",
      "331:\tlearn: 0.7985274\ttotal: 360ms\tremaining: 362ms\n",
      "332:\tlearn: 0.7982109\ttotal: 361ms\tremaining: 361ms\n",
      "333:\tlearn: 0.7978496\ttotal: 363ms\tremaining: 360ms\n",
      "334:\tlearn: 0.7975244\ttotal: 363ms\tremaining: 359ms\n",
      "335:\tlearn: 0.7970593\ttotal: 364ms\tremaining: 358ms\n",
      "336:\tlearn: 0.7966787\ttotal: 365ms\tremaining: 356ms\n",
      "337:\tlearn: 0.7963852\ttotal: 366ms\tremaining: 355ms\n",
      "338:\tlearn: 0.7960840\ttotal: 367ms\tremaining: 354ms\n",
      "339:\tlearn: 0.7956000\ttotal: 368ms\tremaining: 353ms\n",
      "340:\tlearn: 0.7952053\ttotal: 368ms\tremaining: 351ms\n",
      "341:\tlearn: 0.7948498\ttotal: 369ms\tremaining: 350ms\n",
      "342:\tlearn: 0.7944910\ttotal: 370ms\tremaining: 348ms\n",
      "343:\tlearn: 0.7942132\ttotal: 371ms\tremaining: 347ms\n",
      "344:\tlearn: 0.7938084\ttotal: 372ms\tremaining: 346ms\n",
      "345:\tlearn: 0.7934844\ttotal: 372ms\tremaining: 344ms\n",
      "346:\tlearn: 0.7931096\ttotal: 373ms\tremaining: 343ms\n",
      "347:\tlearn: 0.7927718\ttotal: 374ms\tremaining: 342ms\n",
      "348:\tlearn: 0.7922967\ttotal: 375ms\tremaining: 341ms\n",
      "349:\tlearn: 0.7920880\ttotal: 376ms\tremaining: 339ms\n",
      "350:\tlearn: 0.7917551\ttotal: 376ms\tremaining: 338ms\n",
      "351:\tlearn: 0.7912729\ttotal: 377ms\tremaining: 336ms\n",
      "352:\tlearn: 0.7909746\ttotal: 378ms\tremaining: 335ms\n",
      "353:\tlearn: 0.7906569\ttotal: 378ms\tremaining: 334ms\n",
      "354:\tlearn: 0.7902985\ttotal: 379ms\tremaining: 332ms\n",
      "355:\tlearn: 0.7899802\ttotal: 380ms\tremaining: 331ms\n",
      "356:\tlearn: 0.7895795\ttotal: 381ms\tremaining: 329ms\n",
      "357:\tlearn: 0.7892514\ttotal: 382ms\tremaining: 328ms\n",
      "358:\tlearn: 0.7889297\ttotal: 382ms\tremaining: 327ms\n",
      "359:\tlearn: 0.7886279\ttotal: 383ms\tremaining: 326ms\n",
      "360:\tlearn: 0.7883471\ttotal: 384ms\tremaining: 324ms\n",
      "361:\tlearn: 0.7880327\ttotal: 385ms\tremaining: 323ms\n",
      "362:\tlearn: 0.7877994\ttotal: 386ms\tremaining: 322ms\n",
      "363:\tlearn: 0.7875749\ttotal: 386ms\tremaining: 320ms\n",
      "364:\tlearn: 0.7872283\ttotal: 387ms\tremaining: 319ms\n",
      "365:\tlearn: 0.7868410\ttotal: 388ms\tremaining: 318ms\n",
      "366:\tlearn: 0.7866110\ttotal: 389ms\tremaining: 317ms\n",
      "367:\tlearn: 0.7863778\ttotal: 390ms\tremaining: 316ms\n",
      "368:\tlearn: 0.7860591\ttotal: 391ms\tremaining: 314ms\n",
      "369:\tlearn: 0.7857678\ttotal: 391ms\tremaining: 313ms\n",
      "370:\tlearn: 0.7854390\ttotal: 392ms\tremaining: 311ms\n",
      "371:\tlearn: 0.7851873\ttotal: 393ms\tremaining: 310ms\n",
      "372:\tlearn: 0.7850894\ttotal: 394ms\tremaining: 310ms\n",
      "373:\tlearn: 0.7848421\ttotal: 396ms\tremaining: 309ms\n",
      "374:\tlearn: 0.7845834\ttotal: 397ms\tremaining: 308ms\n",
      "375:\tlearn: 0.7841274\ttotal: 398ms\tremaining: 307ms\n",
      "376:\tlearn: 0.7837634\ttotal: 400ms\tremaining: 306ms\n",
      "377:\tlearn: 0.7835013\ttotal: 400ms\tremaining: 305ms\n",
      "378:\tlearn: 0.7831936\ttotal: 401ms\tremaining: 304ms\n",
      "379:\tlearn: 0.7829114\ttotal: 402ms\tremaining: 302ms\n",
      "380:\tlearn: 0.7826795\ttotal: 403ms\tremaining: 301ms\n",
      "381:\tlearn: 0.7823091\ttotal: 404ms\tremaining: 300ms\n",
      "382:\tlearn: 0.7819801\ttotal: 404ms\tremaining: 299ms\n",
      "383:\tlearn: 0.7816743\ttotal: 405ms\tremaining: 298ms\n",
      "384:\tlearn: 0.7814163\ttotal: 406ms\tremaining: 296ms\n",
      "385:\tlearn: 0.7811527\ttotal: 407ms\tremaining: 295ms\n",
      "386:\tlearn: 0.7807923\ttotal: 407ms\tremaining: 294ms\n",
      "387:\tlearn: 0.7805651\ttotal: 408ms\tremaining: 292ms\n",
      "388:\tlearn: 0.7802682\ttotal: 409ms\tremaining: 291ms\n",
      "389:\tlearn: 0.7800352\ttotal: 410ms\tremaining: 290ms\n",
      "390:\tlearn: 0.7796968\ttotal: 411ms\tremaining: 289ms\n",
      "391:\tlearn: 0.7793673\ttotal: 412ms\tremaining: 288ms\n",
      "392:\tlearn: 0.7790559\ttotal: 412ms\tremaining: 287ms\n",
      "393:\tlearn: 0.7787913\ttotal: 413ms\tremaining: 285ms\n",
      "394:\tlearn: 0.7784810\ttotal: 414ms\tremaining: 284ms\n",
      "395:\tlearn: 0.7782193\ttotal: 414ms\tremaining: 283ms\n",
      "396:\tlearn: 0.7779315\ttotal: 415ms\tremaining: 281ms\n",
      "397:\tlearn: 0.7775507\ttotal: 416ms\tremaining: 280ms\n",
      "398:\tlearn: 0.7773215\ttotal: 416ms\tremaining: 279ms\n",
      "399:\tlearn: 0.7770215\ttotal: 417ms\tremaining: 278ms\n",
      "400:\tlearn: 0.7768235\ttotal: 419ms\tremaining: 277ms\n",
      "401:\tlearn: 0.7765189\ttotal: 419ms\tremaining: 275ms\n",
      "402:\tlearn: 0.7762550\ttotal: 420ms\tremaining: 274ms\n",
      "403:\tlearn: 0.7759602\ttotal: 422ms\tremaining: 273ms\n",
      "404:\tlearn: 0.7755415\ttotal: 422ms\tremaining: 272ms\n",
      "405:\tlearn: 0.7751743\ttotal: 423ms\tremaining: 271ms\n",
      "406:\tlearn: 0.7748216\ttotal: 424ms\tremaining: 270ms\n",
      "407:\tlearn: 0.7745842\ttotal: 425ms\tremaining: 269ms\n",
      "408:\tlearn: 0.7743526\ttotal: 426ms\tremaining: 268ms\n",
      "409:\tlearn: 0.7741096\ttotal: 427ms\tremaining: 266ms\n",
      "410:\tlearn: 0.7737728\ttotal: 427ms\tremaining: 265ms\n",
      "411:\tlearn: 0.7735081\ttotal: 428ms\tremaining: 264ms\n",
      "412:\tlearn: 0.7732377\ttotal: 429ms\tremaining: 263ms\n",
      "413:\tlearn: 0.7730080\ttotal: 429ms\tremaining: 261ms\n",
      "414:\tlearn: 0.7727377\ttotal: 430ms\tremaining: 260ms\n",
      "415:\tlearn: 0.7724904\ttotal: 431ms\tremaining: 259ms\n",
      "416:\tlearn: 0.7720512\ttotal: 432ms\tremaining: 258ms\n",
      "417:\tlearn: 0.7717454\ttotal: 433ms\tremaining: 257ms\n",
      "418:\tlearn: 0.7714983\ttotal: 434ms\tremaining: 256ms\n",
      "419:\tlearn: 0.7712493\ttotal: 435ms\tremaining: 255ms\n",
      "420:\tlearn: 0.7709614\ttotal: 436ms\tremaining: 254ms\n",
      "421:\tlearn: 0.7706493\ttotal: 437ms\tremaining: 253ms\n",
      "422:\tlearn: 0.7703737\ttotal: 437ms\tremaining: 251ms\n",
      "423:\tlearn: 0.7701409\ttotal: 438ms\tremaining: 250ms\n",
      "424:\tlearn: 0.7698221\ttotal: 439ms\tremaining: 249ms\n",
      "425:\tlearn: 0.7695018\ttotal: 440ms\tremaining: 248ms\n",
      "426:\tlearn: 0.7692831\ttotal: 441ms\tremaining: 247ms\n",
      "427:\tlearn: 0.7689427\ttotal: 442ms\tremaining: 246ms\n",
      "428:\tlearn: 0.7686463\ttotal: 443ms\tremaining: 244ms\n",
      "429:\tlearn: 0.7683965\ttotal: 443ms\tremaining: 243ms\n",
      "430:\tlearn: 0.7680881\ttotal: 444ms\tremaining: 242ms\n",
      "431:\tlearn: 0.7678305\ttotal: 445ms\tremaining: 241ms\n",
      "432:\tlearn: 0.7674370\ttotal: 445ms\tremaining: 240ms\n",
      "433:\tlearn: 0.7671654\ttotal: 446ms\tremaining: 239ms\n",
      "434:\tlearn: 0.7669519\ttotal: 447ms\tremaining: 237ms\n",
      "435:\tlearn: 0.7667839\ttotal: 448ms\tremaining: 236ms\n",
      "436:\tlearn: 0.7664797\ttotal: 449ms\tremaining: 235ms\n",
      "437:\tlearn: 0.7662332\ttotal: 450ms\tremaining: 234ms\n",
      "438:\tlearn: 0.7659098\ttotal: 451ms\tremaining: 233ms\n",
      "439:\tlearn: 0.7657177\ttotal: 452ms\tremaining: 232ms\n",
      "440:\tlearn: 0.7654685\ttotal: 453ms\tremaining: 231ms\n",
      "441:\tlearn: 0.7652109\ttotal: 454ms\tremaining: 230ms\n",
      "442:\tlearn: 0.7649121\ttotal: 456ms\tremaining: 229ms\n",
      "443:\tlearn: 0.7646797\ttotal: 457ms\tremaining: 228ms\n",
      "444:\tlearn: 0.7644201\ttotal: 457ms\tremaining: 227ms\n",
      "445:\tlearn: 0.7641400\ttotal: 458ms\tremaining: 226ms\n",
      "446:\tlearn: 0.7639051\ttotal: 459ms\tremaining: 225ms\n",
      "447:\tlearn: 0.7636078\ttotal: 460ms\tremaining: 224ms\n",
      "448:\tlearn: 0.7634328\ttotal: 461ms\tremaining: 223ms\n",
      "449:\tlearn: 0.7631478\ttotal: 461ms\tremaining: 221ms\n",
      "450:\tlearn: 0.7629240\ttotal: 462ms\tremaining: 220ms\n",
      "451:\tlearn: 0.7625992\ttotal: 463ms\tremaining: 219ms\n",
      "452:\tlearn: 0.7623527\ttotal: 464ms\tremaining: 218ms\n",
      "453:\tlearn: 0.7620677\ttotal: 464ms\tremaining: 217ms\n",
      "454:\tlearn: 0.7617896\ttotal: 465ms\tremaining: 216ms\n",
      "455:\tlearn: 0.7615649\ttotal: 466ms\tremaining: 215ms\n",
      "456:\tlearn: 0.7613310\ttotal: 467ms\tremaining: 213ms\n",
      "457:\tlearn: 0.7610887\ttotal: 467ms\tremaining: 212ms\n",
      "458:\tlearn: 0.7608502\ttotal: 468ms\tremaining: 211ms\n",
      "459:\tlearn: 0.7604676\ttotal: 469ms\tremaining: 210ms\n",
      "460:\tlearn: 0.7601906\ttotal: 470ms\tremaining: 209ms\n",
      "461:\tlearn: 0.7599169\ttotal: 471ms\tremaining: 208ms\n",
      "462:\tlearn: 0.7596708\ttotal: 471ms\tremaining: 207ms\n",
      "463:\tlearn: 0.7594774\ttotal: 472ms\tremaining: 206ms\n",
      "464:\tlearn: 0.7591393\ttotal: 473ms\tremaining: 204ms\n",
      "465:\tlearn: 0.7588423\ttotal: 473ms\tremaining: 203ms\n",
      "466:\tlearn: 0.7585250\ttotal: 474ms\tremaining: 202ms\n",
      "467:\tlearn: 0.7582819\ttotal: 475ms\tremaining: 201ms\n",
      "468:\tlearn: 0.7580277\ttotal: 476ms\tremaining: 200ms\n",
      "469:\tlearn: 0.7577311\ttotal: 477ms\tremaining: 199ms\n",
      "470:\tlearn: 0.7574794\ttotal: 478ms\tremaining: 198ms\n",
      "471:\tlearn: 0.7572079\ttotal: 479ms\tremaining: 197ms\n",
      "472:\tlearn: 0.7569223\ttotal: 480ms\tremaining: 196ms\n",
      "473:\tlearn: 0.7566808\ttotal: 481ms\tremaining: 195ms\n",
      "474:\tlearn: 0.7564290\ttotal: 482ms\tremaining: 194ms\n",
      "475:\tlearn: 0.7562505\ttotal: 482ms\tremaining: 193ms\n",
      "476:\tlearn: 0.7560888\ttotal: 483ms\tremaining: 191ms\n",
      "477:\tlearn: 0.7558951\ttotal: 484ms\tremaining: 191ms\n",
      "478:\tlearn: 0.7555921\ttotal: 486ms\tremaining: 190ms\n",
      "479:\tlearn: 0.7553705\ttotal: 487ms\tremaining: 189ms\n",
      "480:\tlearn: 0.7550521\ttotal: 488ms\tremaining: 188ms\n",
      "481:\tlearn: 0.7548814\ttotal: 489ms\tremaining: 187ms\n",
      "482:\tlearn: 0.7545979\ttotal: 490ms\tremaining: 186ms\n",
      "483:\tlearn: 0.7543190\ttotal: 491ms\tremaining: 185ms\n",
      "484:\tlearn: 0.7540411\ttotal: 493ms\tremaining: 184ms\n",
      "485:\tlearn: 0.7538553\ttotal: 494ms\tremaining: 183ms\n",
      "486:\tlearn: 0.7534611\ttotal: 495ms\tremaining: 182ms\n",
      "487:\tlearn: 0.7530929\ttotal: 497ms\tremaining: 181ms\n",
      "488:\tlearn: 0.7527579\ttotal: 498ms\tremaining: 180ms\n",
      "489:\tlearn: 0.7524487\ttotal: 499ms\tremaining: 179ms\n",
      "490:\tlearn: 0.7521948\ttotal: 500ms\tremaining: 178ms\n",
      "491:\tlearn: 0.7520483\ttotal: 501ms\tremaining: 177ms\n",
      "492:\tlearn: 0.7518198\ttotal: 502ms\tremaining: 176ms\n",
      "493:\tlearn: 0.7515598\ttotal: 504ms\tremaining: 175ms\n",
      "494:\tlearn: 0.7513092\ttotal: 505ms\tremaining: 174ms\n",
      "495:\tlearn: 0.7511236\ttotal: 506ms\tremaining: 173ms\n",
      "496:\tlearn: 0.7509395\ttotal: 507ms\tremaining: 172ms\n",
      "497:\tlearn: 0.7507200\ttotal: 509ms\tremaining: 172ms\n",
      "498:\tlearn: 0.7505146\ttotal: 510ms\tremaining: 171ms\n",
      "499:\tlearn: 0.7502807\ttotal: 512ms\tremaining: 170ms\n",
      "500:\tlearn: 0.7500293\ttotal: 513ms\tremaining: 169ms\n",
      "501:\tlearn: 0.7498312\ttotal: 514ms\tremaining: 168ms\n"
     ]
    },
    {
     "name": "stdout",
     "output_type": "stream",
     "text": [
      "502:\tlearn: 0.7496021\ttotal: 515ms\tremaining: 167ms\n",
      "503:\tlearn: 0.7494557\ttotal: 517ms\tremaining: 166ms\n",
      "504:\tlearn: 0.7492165\ttotal: 518ms\tremaining: 165ms\n",
      "505:\tlearn: 0.7489990\ttotal: 519ms\tremaining: 164ms\n",
      "506:\tlearn: 0.7487311\ttotal: 521ms\tremaining: 163ms\n",
      "507:\tlearn: 0.7484561\ttotal: 522ms\tremaining: 162ms\n",
      "508:\tlearn: 0.7482388\ttotal: 523ms\tremaining: 161ms\n",
      "509:\tlearn: 0.7480452\ttotal: 525ms\tremaining: 161ms\n",
      "510:\tlearn: 0.7478372\ttotal: 526ms\tremaining: 160ms\n",
      "511:\tlearn: 0.7476365\ttotal: 527ms\tremaining: 159ms\n",
      "512:\tlearn: 0.7474457\ttotal: 529ms\tremaining: 158ms\n",
      "513:\tlearn: 0.7472453\ttotal: 530ms\tremaining: 157ms\n",
      "514:\tlearn: 0.7470623\ttotal: 531ms\tremaining: 156ms\n",
      "515:\tlearn: 0.7468934\ttotal: 532ms\tremaining: 155ms\n",
      "516:\tlearn: 0.7466886\ttotal: 533ms\tremaining: 154ms\n",
      "517:\tlearn: 0.7463125\ttotal: 535ms\tremaining: 153ms\n",
      "518:\tlearn: 0.7460048\ttotal: 536ms\tremaining: 152ms\n",
      "519:\tlearn: 0.7456521\ttotal: 537ms\tremaining: 151ms\n",
      "520:\tlearn: 0.7453724\ttotal: 539ms\tremaining: 150ms\n",
      "521:\tlearn: 0.7451507\ttotal: 540ms\tremaining: 149ms\n",
      "522:\tlearn: 0.7449432\ttotal: 541ms\tremaining: 148ms\n",
      "523:\tlearn: 0.7447541\ttotal: 542ms\tremaining: 147ms\n",
      "524:\tlearn: 0.7445052\ttotal: 544ms\tremaining: 146ms\n",
      "525:\tlearn: 0.7443498\ttotal: 545ms\tremaining: 145ms\n",
      "526:\tlearn: 0.7441751\ttotal: 546ms\tremaining: 144ms\n",
      "527:\tlearn: 0.7439107\ttotal: 547ms\tremaining: 143ms\n",
      "528:\tlearn: 0.7437504\ttotal: 548ms\tremaining: 142ms\n",
      "529:\tlearn: 0.7434244\ttotal: 550ms\tremaining: 141ms\n",
      "530:\tlearn: 0.7432038\ttotal: 552ms\tremaining: 140ms\n",
      "531:\tlearn: 0.7430536\ttotal: 554ms\tremaining: 140ms\n",
      "532:\tlearn: 0.7428107\ttotal: 556ms\tremaining: 139ms\n",
      "533:\tlearn: 0.7425834\ttotal: 558ms\tremaining: 138ms\n",
      "534:\tlearn: 0.7423431\ttotal: 560ms\tremaining: 137ms\n",
      "535:\tlearn: 0.7420846\ttotal: 561ms\tremaining: 136ms\n",
      "536:\tlearn: 0.7418499\ttotal: 564ms\tremaining: 136ms\n",
      "537:\tlearn: 0.7416496\ttotal: 566ms\tremaining: 135ms\n",
      "538:\tlearn: 0.7414399\ttotal: 569ms\tremaining: 134ms\n",
      "539:\tlearn: 0.7412842\ttotal: 571ms\tremaining: 133ms\n",
      "540:\tlearn: 0.7411579\ttotal: 572ms\tremaining: 132ms\n",
      "541:\tlearn: 0.7409427\ttotal: 574ms\tremaining: 131ms\n",
      "542:\tlearn: 0.7407051\ttotal: 576ms\tremaining: 130ms\n",
      "543:\tlearn: 0.7404844\ttotal: 578ms\tremaining: 130ms\n",
      "544:\tlearn: 0.7403121\ttotal: 580ms\tremaining: 129ms\n",
      "545:\tlearn: 0.7401057\ttotal: 582ms\tremaining: 128ms\n",
      "546:\tlearn: 0.7399059\ttotal: 584ms\tremaining: 127ms\n",
      "547:\tlearn: 0.7397134\ttotal: 586ms\tremaining: 126ms\n",
      "548:\tlearn: 0.7394782\ttotal: 587ms\tremaining: 125ms\n",
      "549:\tlearn: 0.7392706\ttotal: 589ms\tremaining: 124ms\n",
      "550:\tlearn: 0.7390996\ttotal: 591ms\tremaining: 123ms\n",
      "551:\tlearn: 0.7389034\ttotal: 593ms\tremaining: 122ms\n",
      "552:\tlearn: 0.7386953\ttotal: 594ms\tremaining: 121ms\n",
      "553:\tlearn: 0.7386748\ttotal: 595ms\tremaining: 120ms\n",
      "554:\tlearn: 0.7384265\ttotal: 596ms\tremaining: 119ms\n",
      "555:\tlearn: 0.7382221\ttotal: 597ms\tremaining: 118ms\n",
      "556:\tlearn: 0.7380003\ttotal: 598ms\tremaining: 117ms\n",
      "557:\tlearn: 0.7377808\ttotal: 599ms\tremaining: 116ms\n",
      "558:\tlearn: 0.7375722\ttotal: 599ms\tremaining: 115ms\n",
      "559:\tlearn: 0.7373510\ttotal: 601ms\tremaining: 114ms\n",
      "560:\tlearn: 0.7371616\ttotal: 602ms\tremaining: 113ms\n",
      "561:\tlearn: 0.7369685\ttotal: 603ms\tremaining: 112ms\n",
      "562:\tlearn: 0.7367791\ttotal: 604ms\tremaining: 111ms\n",
      "563:\tlearn: 0.7364895\ttotal: 605ms\tremaining: 109ms\n",
      "564:\tlearn: 0.7363585\ttotal: 607ms\tremaining: 108ms\n",
      "565:\tlearn: 0.7361307\ttotal: 608ms\tremaining: 107ms\n",
      "566:\tlearn: 0.7359096\ttotal: 608ms\tremaining: 106ms\n",
      "567:\tlearn: 0.7357585\ttotal: 609ms\tremaining: 105ms\n",
      "568:\tlearn: 0.7355256\ttotal: 610ms\tremaining: 104ms\n",
      "569:\tlearn: 0.7352573\ttotal: 612ms\tremaining: 103ms\n",
      "570:\tlearn: 0.7350608\ttotal: 613ms\tremaining: 102ms\n",
      "571:\tlearn: 0.7349186\ttotal: 614ms\tremaining: 101ms\n",
      "572:\tlearn: 0.7347122\ttotal: 616ms\tremaining: 99.9ms\n",
      "573:\tlearn: 0.7345315\ttotal: 617ms\tremaining: 98.8ms\n",
      "574:\tlearn: 0.7343513\ttotal: 618ms\tremaining: 97.8ms\n",
      "575:\tlearn: 0.7341587\ttotal: 620ms\tremaining: 96.8ms\n",
      "576:\tlearn: 0.7338929\ttotal: 621ms\tremaining: 95.7ms\n",
      "577:\tlearn: 0.7337161\ttotal: 622ms\tremaining: 94.7ms\n",
      "578:\tlearn: 0.7334936\ttotal: 623ms\tremaining: 93.6ms\n",
      "579:\tlearn: 0.7332927\ttotal: 624ms\tremaining: 92.6ms\n",
      "580:\tlearn: 0.7329778\ttotal: 625ms\tremaining: 91.5ms\n",
      "581:\tlearn: 0.7327767\ttotal: 626ms\tremaining: 90.3ms\n",
      "582:\tlearn: 0.7326080\ttotal: 628ms\tremaining: 89.4ms\n",
      "583:\tlearn: 0.7324506\ttotal: 629ms\tremaining: 88.3ms\n",
      "584:\tlearn: 0.7323010\ttotal: 629ms\tremaining: 87.1ms\n",
      "585:\tlearn: 0.7321342\ttotal: 630ms\tremaining: 86.1ms\n",
      "586:\tlearn: 0.7319428\ttotal: 632ms\tremaining: 85ms\n",
      "587:\tlearn: 0.7317307\ttotal: 633ms\tremaining: 83.9ms\n",
      "588:\tlearn: 0.7315371\ttotal: 634ms\tremaining: 82.9ms\n",
      "589:\tlearn: 0.7313703\ttotal: 635ms\tremaining: 81.7ms\n",
      "590:\tlearn: 0.7312275\ttotal: 635ms\tremaining: 80.6ms\n",
      "591:\tlearn: 0.7310786\ttotal: 636ms\tremaining: 79.5ms\n",
      "592:\tlearn: 0.7308909\ttotal: 637ms\tremaining: 78.4ms\n",
      "593:\tlearn: 0.7307443\ttotal: 637ms\tremaining: 77.3ms\n",
      "594:\tlearn: 0.7305583\ttotal: 638ms\tremaining: 76.2ms\n",
      "595:\tlearn: 0.7304261\ttotal: 640ms\tremaining: 75.1ms\n",
      "596:\tlearn: 0.7302321\ttotal: 641ms\tremaining: 74.1ms\n",
      "597:\tlearn: 0.7301124\ttotal: 642ms\tremaining: 73ms\n",
      "598:\tlearn: 0.7300006\ttotal: 643ms\tremaining: 71.9ms\n",
      "599:\tlearn: 0.7297947\ttotal: 644ms\tremaining: 70.8ms\n",
      "600:\tlearn: 0.7296236\ttotal: 645ms\tremaining: 69.8ms\n",
      "601:\tlearn: 0.7294134\ttotal: 646ms\tremaining: 68.7ms\n",
      "602:\tlearn: 0.7291838\ttotal: 647ms\tremaining: 67.6ms\n",
      "603:\tlearn: 0.7289058\ttotal: 648ms\tremaining: 66.5ms\n",
      "604:\tlearn: 0.7286742\ttotal: 649ms\tremaining: 65.4ms\n",
      "605:\tlearn: 0.7285148\ttotal: 649ms\tremaining: 64.3ms\n",
      "606:\tlearn: 0.7282740\ttotal: 650ms\tremaining: 63.2ms\n",
      "607:\tlearn: 0.7280416\ttotal: 651ms\tremaining: 62.1ms\n",
      "608:\tlearn: 0.7277676\ttotal: 652ms\tremaining: 61ms\n",
      "609:\tlearn: 0.7275643\ttotal: 652ms\tremaining: 59.9ms\n",
      "610:\tlearn: 0.7273318\ttotal: 653ms\tremaining: 58.8ms\n",
      "611:\tlearn: 0.7271616\ttotal: 654ms\tremaining: 57.7ms\n",
      "612:\tlearn: 0.7268874\ttotal: 655ms\tremaining: 56.6ms\n",
      "613:\tlearn: 0.7266797\ttotal: 656ms\tremaining: 55.5ms\n",
      "614:\tlearn: 0.7264688\ttotal: 657ms\tremaining: 54.5ms\n",
      "615:\tlearn: 0.7262936\ttotal: 658ms\tremaining: 53.4ms\n",
      "616:\tlearn: 0.7260384\ttotal: 659ms\tremaining: 52.3ms\n",
      "617:\tlearn: 0.7258160\ttotal: 660ms\tremaining: 51.2ms\n",
      "618:\tlearn: 0.7256242\ttotal: 660ms\tremaining: 50.1ms\n",
      "619:\tlearn: 0.7254036\ttotal: 661ms\tremaining: 49.1ms\n",
      "620:\tlearn: 0.7251616\ttotal: 662ms\tremaining: 48ms\n",
      "621:\tlearn: 0.7250273\ttotal: 663ms\tremaining: 46.9ms\n",
      "622:\tlearn: 0.7248085\ttotal: 664ms\tremaining: 45.8ms\n",
      "623:\tlearn: 0.7246459\ttotal: 664ms\tremaining: 44.7ms\n",
      "624:\tlearn: 0.7244214\ttotal: 665ms\tremaining: 43.6ms\n",
      "625:\tlearn: 0.7242362\ttotal: 666ms\tremaining: 42.5ms\n",
      "626:\tlearn: 0.7239726\ttotal: 667ms\tremaining: 41.5ms\n",
      "627:\tlearn: 0.7238435\ttotal: 667ms\tremaining: 40.4ms\n",
      "628:\tlearn: 0.7236435\ttotal: 668ms\tremaining: 39.3ms\n",
      "629:\tlearn: 0.7234413\ttotal: 668ms\tremaining: 38.2ms\n",
      "630:\tlearn: 0.7232202\ttotal: 669ms\tremaining: 37.1ms\n",
      "631:\tlearn: 0.7230338\ttotal: 670ms\tremaining: 36ms\n",
      "632:\tlearn: 0.7228786\ttotal: 671ms\tremaining: 35ms\n",
      "633:\tlearn: 0.7227137\ttotal: 672ms\tremaining: 33.9ms\n",
      "634:\tlearn: 0.7225127\ttotal: 673ms\tremaining: 32.9ms\n",
      "635:\tlearn: 0.7223254\ttotal: 674ms\tremaining: 31.8ms\n",
      "636:\tlearn: 0.7220981\ttotal: 674ms\tremaining: 30.7ms\n",
      "637:\tlearn: 0.7219513\ttotal: 675ms\tremaining: 29.6ms\n",
      "638:\tlearn: 0.7218259\ttotal: 676ms\tremaining: 28.6ms\n",
      "639:\tlearn: 0.7216649\ttotal: 677ms\tremaining: 27.5ms\n",
      "640:\tlearn: 0.7214881\ttotal: 678ms\tremaining: 26.4ms\n",
      "641:\tlearn: 0.7213148\ttotal: 678ms\tremaining: 25.4ms\n",
      "642:\tlearn: 0.7211238\ttotal: 679ms\tremaining: 24.3ms\n",
      "643:\tlearn: 0.7208615\ttotal: 680ms\tremaining: 23.2ms\n",
      "644:\tlearn: 0.7206937\ttotal: 680ms\tremaining: 22.2ms\n",
      "645:\tlearn: 0.7204793\ttotal: 681ms\tremaining: 21.1ms\n",
      "646:\tlearn: 0.7202676\ttotal: 682ms\tremaining: 20ms\n",
      "647:\tlearn: 0.7201036\ttotal: 683ms\tremaining: 19ms\n",
      "648:\tlearn: 0.7199223\ttotal: 683ms\tremaining: 17.9ms\n",
      "649:\tlearn: 0.7197822\ttotal: 684ms\tremaining: 16.8ms\n",
      "650:\tlearn: 0.7194490\ttotal: 686ms\tremaining: 15.8ms\n",
      "651:\tlearn: 0.7192338\ttotal: 686ms\tremaining: 14.7ms\n",
      "652:\tlearn: 0.7190689\ttotal: 687ms\tremaining: 13.7ms\n",
      "653:\tlearn: 0.7188559\ttotal: 688ms\tremaining: 12.6ms\n",
      "654:\tlearn: 0.7186504\ttotal: 689ms\tremaining: 11.6ms\n",
      "655:\tlearn: 0.7184345\ttotal: 690ms\tremaining: 10.5ms\n",
      "656:\tlearn: 0.7182472\ttotal: 691ms\tremaining: 9.47ms\n",
      "657:\tlearn: 0.7180165\ttotal: 692ms\tremaining: 8.42ms\n",
      "658:\tlearn: 0.7177657\ttotal: 694ms\tremaining: 7.37ms\n"
     ]
    },
    {
     "name": "stdout",
     "output_type": "stream",
     "text": [
      "659:\tlearn: 0.7175018\ttotal: 695ms\tremaining: 6.32ms\n",
      "660:\tlearn: 0.7173484\ttotal: 696ms\tremaining: 5.27ms\n",
      "661:\tlearn: 0.7170796\ttotal: 697ms\tremaining: 4.21ms\n",
      "662:\tlearn: 0.7168638\ttotal: 698ms\tremaining: 3.16ms\n",
      "663:\tlearn: 0.7166754\ttotal: 699ms\tremaining: 2.11ms\n",
      "664:\tlearn: 0.7164255\ttotal: 701ms\tremaining: 1.05ms\n",
      "665:\tlearn: 0.7162800\ttotal: 702ms\tremaining: 0us\n"
     ]
    },
    {
     "data": {
      "text/plain": [
       "<catboost.core.CatBoostRegressor at 0x155484250>"
      ]
     },
     "execution_count": 20,
     "metadata": {},
     "output_type": "execute_result"
    }
   ],
   "source": [
    "from catboost import CatBoostRegressor\n",
    "\n",
    "X_train, X_test, y_train, y_test = train_test_split(X, Y, test_size=0.33, random_state=42)\n",
    "\n",
    "model = CatBoostRegressor(iterations=666,\n",
    "                          learning_rate=1,\n",
    "                          depth=1)\n",
    "model.fit(X_train, y_train)"
   ]
  },
  {
   "cell_type": "code",
   "execution_count": 21,
   "metadata": {},
   "outputs": [
    {
     "name": "stdout",
     "output_type": "stream",
     "text": [
      "catboost train score:  0.8040075909850519\n",
      "catboost test score:  0.12223445983194059\n"
     ]
    }
   ],
   "source": [
    "print(\"catboost train score: \", model.score(X_train, y_train))\n",
    "print(\"catboost test score: \", model.score(X_test, y_test))"
   ]
  },
  {
   "cell_type": "markdown",
   "metadata": {},
   "source": [
    "4. Я заметил лишние фичи"
   ]
  },
  {
   "cell_type": "code",
   "execution_count": 35,
   "metadata": {},
   "outputs": [],
   "source": [
    "df = pd.read_csv(\"./fd.csv\")\n",
    "df = df.drop(['Company', 'Time'], axis=1)"
   ]
  },
  {
   "cell_type": "code",
   "execution_count": 36,
   "metadata": {},
   "outputs": [],
   "source": [
    "X = df[df.columns.difference([\"Financial Distress\"])]\n",
    "Y = df[\"Financial Distress\"]"
   ]
  },
  {
   "cell_type": "code",
   "execution_count": 37,
   "metadata": {},
   "outputs": [],
   "source": [
    "X_train, X_test, y_train, y_test = train_test_split(\n",
    "    X, Y, test_size=0.33, random_state=42\n",
    ")"
   ]
  },
  {
   "cell_type": "code",
   "execution_count": 38,
   "metadata": {},
   "outputs": [
    {
     "data": {
      "text/plain": [
       "RandomForestRegressor(criterion='mae', max_depth=12, n_estimators=150,\n",
       "                      n_jobs=-1)"
      ]
     },
     "execution_count": 38,
     "metadata": {},
     "output_type": "execute_result"
    }
   ],
   "source": [
    "reg = RandomForestRegressor(criterion='mae', max_depth=12, max_features='auto', n_estimators=150, n_jobs=-1)\n",
    "reg.fit(X_train, y_train)"
   ]
  },
  {
   "cell_type": "code",
   "execution_count": 39,
   "metadata": {},
   "outputs": [
    {
     "data": {
      "text/plain": [
       "0.9146203838418517"
      ]
     },
     "execution_count": 39,
     "metadata": {},
     "output_type": "execute_result"
    }
   ],
   "source": [
    "reg.score(X_train, y_train)"
   ]
  },
  {
   "cell_type": "code",
   "execution_count": 40,
   "metadata": {},
   "outputs": [
    {
     "data": {
      "text/plain": [
       "0.14569975677871194"
      ]
     },
     "execution_count": 40,
     "metadata": {},
     "output_type": "execute_result"
    }
   ],
   "source": [
    "reg.score(X_test, y_test)"
   ]
  },
  {
   "cell_type": "markdown",
   "metadata": {},
   "source": [
    "Скор вырос :)\n",
    "\n",
    "Дальше пытаюсь еще раз провести оптимизацию гиперпараметров, успеть в срок конца экзамена :)"
   ]
  },
  {
   "cell_type": "code",
   "execution_count": 68,
   "metadata": {},
   "outputs": [],
   "source": [
    "reg = RandomForestRegressor()\n",
    "param_grid = {\n",
    "    \"n_estimators\": [50, 100, 150, 200],\n",
    "    \"criterion\": [\"mae\"],\n",
    "    \"max_depth\": [12, 13, 14, 15],\n",
    "    \"max_features\": [\"sqrt\"],\n",
    "}"
   ]
  },
  {
   "cell_type": "code",
   "execution_count": 69,
   "metadata": {},
   "outputs": [
    {
     "name": "stdout",
     "output_type": "stream",
     "text": [
      "Fitting 3 folds for each of 16 candidates, totalling 48 fits\n"
     ]
    },
    {
     "data": {
      "text/plain": [
       "GridSearchCV(cv=3, estimator=RandomForestRegressor(), n_jobs=-1,\n",
       "             param_grid={'criterion': ['mae'], 'max_depth': [12, 13, 14, 15],\n",
       "                         'max_features': ['sqrt'],\n",
       "                         'n_estimators': [50, 100, 150, 200]},\n",
       "             verbose=1)"
      ]
     },
     "execution_count": 69,
     "metadata": {},
     "output_type": "execute_result"
    }
   ],
   "source": [
    "GSCV_reg = GridSearchCV(reg, param_grid, n_jobs=-1, cv=3, verbose=1)\n",
    "GSCV_reg.fit(X_train, y_train)"
   ]
  },
  {
   "cell_type": "code",
   "execution_count": 70,
   "metadata": {},
   "outputs": [
    {
     "data": {
      "text/plain": [
       "{'criterion': 'mae',\n",
       " 'max_depth': 15,\n",
       " 'max_features': 'sqrt',\n",
       " 'n_estimators': 200}"
      ]
     },
     "execution_count": 70,
     "metadata": {},
     "output_type": "execute_result"
    }
   ],
   "source": [
    "GSCV_reg.best_params_"
   ]
  },
  {
   "cell_type": "markdown",
   "metadata": {},
   "source": [
    "Проверка"
   ]
  },
  {
   "cell_type": "code",
   "execution_count": 71,
   "metadata": {},
   "outputs": [
    {
     "data": {
      "text/plain": [
       "RandomForestRegressor(criterion='mae', max_depth=15, max_features='sqrt',\n",
       "                      n_estimators=200, n_jobs=-1)"
      ]
     },
     "execution_count": 71,
     "metadata": {},
     "output_type": "execute_result"
    }
   ],
   "source": [
    "reg = RandomForestRegressor(criterion='mae', max_depth=15, max_features='sqrt', n_estimators=200, n_jobs=-1)\n",
    "reg.fit(X_train, y_train)"
   ]
  },
  {
   "cell_type": "code",
   "execution_count": 72,
   "metadata": {},
   "outputs": [
    {
     "data": {
      "text/plain": [
       "0.929166119051961"
      ]
     },
     "execution_count": 72,
     "metadata": {},
     "output_type": "execute_result"
    }
   ],
   "source": [
    "reg.score(X_train, y_train)"
   ]
  },
  {
   "cell_type": "code",
   "execution_count": 73,
   "metadata": {},
   "outputs": [
    {
     "data": {
      "text/plain": [
       "0.12124427929500758"
      ]
     },
     "execution_count": 73,
     "metadata": {},
     "output_type": "execute_result"
    }
   ],
   "source": [
    "reg.score(X_test, y_test)"
   ]
  },
  {
   "cell_type": "markdown",
   "metadata": {},
   "source": [
    "Удивительно, но скор упал, предполагаю что требуются другие гиперпараметры но нет времени для их обучения"
   ]
  },
  {
   "cell_type": "code",
   "execution_count": null,
   "metadata": {},
   "outputs": [],
   "source": []
  }
 ],
 "metadata": {
  "kernelspec": {
   "display_name": "Python 3",
   "language": "python",
   "name": "python3"
  },
  "language_info": {
   "codemirror_mode": {
    "name": "ipython",
    "version": 3
   },
   "file_extension": ".py",
   "mimetype": "text/x-python",
   "name": "python",
   "nbconvert_exporter": "python",
   "pygments_lexer": "ipython3",
   "version": "3.9.1"
  }
 },
 "nbformat": 4,
 "nbformat_minor": 1
}
