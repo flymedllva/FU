{
 "cells": [
  {
   "cell_type": "markdown",
   "metadata": {
    "collapsed": true,
    "pycharm": {
     "name": "#%% md\n"
    }
   },
   "source": [
    "# Задание 1"
   ]
  },
  {
   "cell_type": "code",
   "execution_count": 1,
   "metadata": {
    "pycharm": {
     "name": "#%%\n"
    }
   },
   "outputs": [],
   "source": [
    "import numpy as np"
   ]
  },
  {
   "cell_type": "markdown",
   "metadata": {
    "pycharm": {
     "name": "#%% md\n"
    }
   },
   "source": [
    "Входные параметры для нейронной сети:\n",
    "Не ревнивый\n",
    "Есть работа\n",
    "Московкая ли прописка\n",
    "Любит ли кошек\n",
    "Красивый или нет\n",
    "Мусорит ли\n"
   ]
  },
  {
   "cell_type": "code",
   "execution_count": 2,
   "metadata": {
    "pycharm": {
     "name": "#%%\n"
    }
   },
   "outputs": [],
   "source": [
    "def act(x):\n",
    "    return 0 if x < 0.5 else 1\n",
    "\n",
    "\n",
    "def go_forward(notjel, work, flat, cat, cute, socks):\n",
    "    x = np.array([notjel, work, flat, cat, cute, socks])\n",
    "    w11 = [-0.5, 1, 0.4, 0.3, 0.2, -0.3]\n",
    "    w12 = [0.4, -0.3, -0.5, 0.4, 0.2, 0.3]\n",
    "    weight1 = np.array([w11, w12])\n",
    "    weight2 = np.array([-1, 1])\n",
    "    sum_hidden = np.dot(weight1, x)\n",
    "    print(\"Значение суммы на нейронах скрытого слоя: \" + str(sum_hidden))\n",
    "    out_hidded = np.array([act(x) for x in sum_hidden])\n",
    "    print(\"Значения на выходах нейронов скрытого слоя: \" + str(out_hidded))\n",
    "    sun_end = np.dot(weight2, out_hidded)\n",
    "    y = act(sun_end)\n",
    "    return y"
   ]
  },
  {
   "cell_type": "code",
   "execution_count": 3,
   "metadata": {
    "pycharm": {
     "name": "#%%\n"
    }
   },
   "outputs": [],
   "source": [
    "notjel = 0\n",
    "work = 1\n",
    "flat = 1\n",
    "cat = 1\n",
    "cute = 1\n",
    "socks = 1"
   ]
  },
  {
   "cell_type": "code",
   "execution_count": 4,
   "metadata": {
    "pycharm": {
     "name": "#%%\n"
    }
   },
   "outputs": [
    {
     "name": "stdout",
     "output_type": "stream",
     "text": [
      "Значение суммы на нейронах скрытого слоя: [1.6 0.1]\n",
      "Значения на выходах нейронов скрытого слоя: [1 0]\n",
      "Не норм\n"
     ]
    }
   ],
   "source": [
    "res = go_forward(notjel, work, flat, cat, cute, socks)\n",
    "if res == 1:\n",
    "    print(\"Норм поц\")\n",
    "else:\n",
    "    print(\"Не норм\")"
   ]
  },
  {
   "cell_type": "code",
   "execution_count": 5,
   "metadata": {
    "pycharm": {
     "name": "#%%\n"
    }
   },
   "outputs": [],
   "source": [
    "notjel = 1\n",
    "work = 0\n",
    "flat = 0\n",
    "cat = 1\n",
    "cute = 1\n",
    "socks = 0"
   ]
  },
  {
   "cell_type": "code",
   "execution_count": 6,
   "metadata": {
    "pycharm": {
     "name": "#%%\n"
    }
   },
   "outputs": [
    {
     "name": "stdout",
     "output_type": "stream",
     "text": [
      "Значение суммы на нейронах скрытого слоя: [0. 1.]\n",
      "Значения на выходах нейронов скрытого слоя: [0 1]\n",
      "Норм поц\n"
     ]
    }
   ],
   "source": [
    "res = go_forward(notjel, work, flat, cat, cute, socks)\n",
    "if res == 1:\n",
    "    print(\"Норм поц\")\n",
    "else:\n",
    "    print(\"Не норм\")"
   ]
  },
  {
   "cell_type": "markdown",
   "metadata": {
    "pycharm": {
     "name": "#%% md\n"
    }
   },
   "source": [
    "# Задание 2"
   ]
  },
  {
   "cell_type": "code",
   "execution_count": 7,
   "metadata": {
    "pycharm": {
     "name": "#%%\n"
    }
   },
   "outputs": [],
   "source": [
    "def activate(x):\n",
    "    return 2 / (1 + np.exp(-x)) - 1\n",
    "\n",
    "\n",
    "def df(x):\n",
    "    return 0.5 * (1 + x) * (1 - x)\n",
    "\n",
    "\n",
    "def go_forward(inp):\n",
    "    sum = np.dot(W1, inp)\n",
    "    out = np.array([activate(x) for x in sum])  # запоминаем выходные знечения для каждого нейрона (скрытого слоя)\n",
    "    sum = np.dot(W2, out)\n",
    "    y = activate(sum)  # выходное значение для всей нейронной сети\n",
    "    return y, out\n",
    "\n",
    "\n",
    "def training(epoch):\n",
    "    global W2, W1\n",
    "    lmd = 0.01\n",
    "    count = len(epoch)\n",
    "    for k in range(1):\n",
    "        x = epoch[np.random.randint(0, count)]  # случайный выбор входного сигнала из обучающей выюорки\n",
    "        y, out = go_forward(x[0:6])  # проход по нейронной сети и вычисление выходных значений нейрона\n",
    "        e = y - x[-1]  # ошибка\n",
    "        delta = e * df(y)\n",
    "        print(\"\\ndelta\", delta)\n",
    "        W2[0][0] = W2[0][0] - lmd * delta * out[0]  # коррекия веса первой связи\n",
    "        W2[0][1] = W2[0][1] - lmd * delta * out[1]  # коррекия веса второй связи\n",
    "        delta2 = W2 * delta * df(out)  # вектор\n",
    "\n",
    "        # коррекция\n",
    "        W1[0, :] = W1[0, :] - np.array(x[0:6]) * delta2[0][0] * lmd\n",
    "        W1[1, :] = W1[1, :] - np.array(x[0:6]) * delta2[1][1] * lmd"
   ]
  },
  {
   "cell_type": "code",
   "execution_count": 8,
   "metadata": {
    "pycharm": {
     "name": "#%%\n"
    }
   },
   "outputs": [
    {
     "name": "stdout",
     "output_type": "stream",
     "text": [
      "Веса первого слоя до обучения\n",
      "[[[0.31586486 0.48226138 0.67351007 0.92338966 0.41807905 0.37864384]]\n",
      "\n",
      " [[0.45220197 0.94059926 0.80441362 0.34942704 0.90117522 0.99745337]]]\n",
      "Веса второго слоя до обучения\n",
      "[[0.47374691 0.47755788]]\n"
     ]
    }
   ],
   "source": [
    "W1 = np.array([np.random.rand(1, 6), np.random.rand(1, 6)])\n",
    "W2 = np.random.rand(1, 2)\n",
    "print(\"Веса первого слоя до обучения\")\n",
    "print(W1)\n",
    "print(\"Веса второго слоя до обучения\")\n",
    "print(W2)"
   ]
  },
  {
   "cell_type": "code",
   "execution_count": 9,
   "metadata": {
    "pycharm": {
     "name": "#%%\n"
    }
   },
   "outputs": [],
   "source": [
    "# Обучающая выборка\n",
    "epoch = [(1, 1, 1, 1, 1, 1, 1),\n",
    "         (0, 0, 1, 1, 1, 0, 0),\n",
    "         (0, 0, 0, 1, 1, 0, 0),\n",
    "         (1, 1, 0, 1, 1, 0, 1),\n",
    "         (1, 0, 0, 1, 1, 1, 1),\n",
    "         (1, 0, 0, 1, 1, 1, 1),\n",
    "         (0, 0, 0, 0, 1, 0, 0)]"
   ]
  },
  {
   "cell_type": "code",
   "execution_count": 10,
   "metadata": {
    "pycharm": {
     "name": "#%%\n"
    }
   },
   "outputs": [
    {
     "name": "stdout",
     "output_type": "stream",
     "text": [
      "\n",
      "delta [[-0.26865382]]\n"
     ]
    }
   ],
   "source": [
    "training(epoch)"
   ]
  },
  {
   "cell_type": "code",
   "execution_count": 11,
   "metadata": {
    "pycharm": {
     "name": "#%%\n"
    }
   },
   "outputs": [
    {
     "name": "stdout",
     "output_type": "stream",
     "text": [
      "Выходное значение НС:0.425 => 1\n",
      "Выходное значение НС:0.352 => 0\n",
      "Выходное значение НС:0.266 => 0\n",
      "Выходное значение НС:0.376 => 1\n",
      "Выходное значение НС:0.374 => 1\n",
      "Выходное значение НС:0.374 => 1\n",
      "Выходное значение НС:0.149 => 0\n",
      "\n",
      "Веса первого слоя после обучения:\n",
      " [0.31610576 0.48250228 0.67351007 0.92363056 0.41831996 0.37864384]\n",
      "\n",
      "Веса второго слоя после обучения:\n",
      " 0.4758676190421044\n"
     ]
    }
   ],
   "source": [
    "for x in epoch:\n",
    "    y, out = go_forward(x[0:6])\n",
    "    print(f\"Выходное значение НС:{round(y[0][0], 3)} => {x[-1]}\")\n",
    "\n",
    "print(\"\\nВеса первого слоя после обучения:\\n\", W1[0][0])\n",
    "print(\"\\nВеса второго слоя после обучения:\\n\", W2[0][0])"
   ]
  },
  {
   "cell_type": "code",
   "execution_count": 12,
   "metadata": {
    "pycharm": {
     "name": "#%%\n"
    }
   },
   "outputs": [
    {
     "name": "stdout",
     "output_type": "stream",
     "text": [
      "Норм поц 0.324 и 1\n"
     ]
    }
   ],
   "source": [
    "test = (1, 0, 1, 0, 0, 1, 1)\n",
    "y, out = go_forward(test[0:6])\n",
    "if y[0][0] > 0.3:\n",
    "    print(f\"Норм поц {round(y[0][0], 3)} и {test[-1]}\")\n",
    "else:\n",
    "    print(f\"Не норм {round(y[0][0], 3)} и {test[-1]}\")"
   ]
  },
  {
   "cell_type": "markdown",
   "metadata": {
    "pycharm": {
     "name": "#%% md\n"
    }
   },
   "source": [
    "# Задание 3"
   ]
  },
  {
   "cell_type": "markdown",
   "metadata": {
    "pycharm": {
     "name": "#%% md\n"
    }
   },
   "source": [
    "Постройте нейронную сеть и выполните ее обучение для следующих данных:"
   ]
  },
  {
   "cell_type": "code",
   "execution_count": 13,
   "metadata": {
    "pycharm": {
     "name": "#%%\n"
    }
   },
   "outputs": [],
   "source": [
    "def activate(x):\n",
    "    return 1 / (1 + np.exp(-x))"
   ]
  },
  {
   "cell_type": "code",
   "execution_count": 14,
   "metadata": {
    "pycharm": {
     "name": "#%%\n"
    }
   },
   "outputs": [],
   "source": [
    "training_input = np.array([[0, 0, 0, 1],\n",
    "                           [1, 1, 1, 0],\n",
    "                           [1, 1, 1, 1],\n",
    "                           [1, 0, 1, 0],\n",
    "                           [0, 1, 1, 0],\n",
    "                           [0, 0, 0, 0]])\n",
    "\n",
    "training_output = np.array([[0, 1, 1, 0, 1, 0]]).T"
   ]
  },
  {
   "cell_type": "code",
   "execution_count": 15,
   "metadata": {
    "pycharm": {
     "name": "#%%\n"
    }
   },
   "outputs": [
    {
     "name": "stdout",
     "output_type": "stream",
     "text": [
      "Случайные веса:\n",
      "[[-0.16595599]\n",
      " [ 0.44064899]\n",
      " [-0.99977125]\n",
      " [-0.39533485]] \n"
     ]
    }
   ],
   "source": [
    "np.random.seed(1)\n",
    "syn_weight = 2 * np.random.random((4, 1)) - 1\n",
    "print(f\"Случайные веса:\\n{syn_weight} \")"
   ]
  },
  {
   "cell_type": "code",
   "execution_count": 16,
   "metadata": {
    "pycharm": {
     "name": "#%%\n"
    }
   },
   "outputs": [
    {
     "name": "stdout",
     "output_type": "stream",
     "text": [
      "Веса после обучения:\n",
      "[[-2.28678078]\n",
      " [13.94166247]\n",
      " [-2.35699105]\n",
      " [-4.57590942]] \n"
     ]
    }
   ],
   "source": [
    "for i in range(20000):\n",
    "    input_layer = training_input\n",
    "    output = activate(np.dot(input_layer, syn_weight))\n",
    "    err = training_output - output\n",
    "    ad = np.dot(input_layer.T, err * (output * (1 - output)))\n",
    "    syn_weight += ad\n",
    "\n",
    "print(f\"Веса после обучения:\\n{syn_weight} \")"
   ]
  },
  {
   "cell_type": "code",
   "execution_count": 17,
   "metadata": {
    "pycharm": {
     "name": "#%%\n"
    }
   },
   "outputs": [
    {
     "name": "stdout",
     "output_type": "stream",
     "text": [
      "Тестовый прогон: \n",
      "1: 1.0\n"
     ]
    }
   ],
   "source": [
    "new_inp = np.array([0, 1, 0, 0])\n",
    "new_output = activate(np.dot(new_inp, syn_weight))\n",
    "print(f\"Тестовый прогон: \")\n",
    "\n",
    "if new_output > 0.90:\n",
    "    print(f\"1: {round(new_output[0], 3)}\")\n",
    "else:\n",
    "    print(f\"0\")"
   ]
  },
  {
   "cell_type": "code",
   "execution_count": 18,
   "metadata": {
    "pycharm": {
     "name": "#%%\n"
    }
   },
   "outputs": [
    {
     "name": "stdout",
     "output_type": "stream",
     "text": [
      "Тестовый прогон: \n",
      "0\n"
     ]
    }
   ],
   "source": [
    "new_inp = np.array([1, 0, 1, 1])\n",
    "new_output = activate(np.dot(new_inp, syn_weight))\n",
    "print(f\"Тестовый прогон: \")\n",
    "\n",
    "if new_output > 0.90:\n",
    "    print(f\"1: {round(new_output[0], 3)}\")\n",
    "else:\n",
    "    print(f\"0\")"
   ]
  },
  {
   "cell_type": "code",
   "execution_count": 18,
   "metadata": {
    "pycharm": {
     "name": "#%%\n"
    }
   },
   "outputs": [],
   "source": []
  }
 ],
 "metadata": {
  "kernelspec": {
   "display_name": "Python 3",
   "language": "python",
   "name": "python3"
  },
  "language_info": {
   "codemirror_mode": {
    "name": "ipython",
    "version": 3
   },
   "file_extension": ".py",
   "mimetype": "text/x-python",
   "name": "python",
   "nbconvert_exporter": "python",
   "pygments_lexer": "ipython3",
   "version": "3.9.5"
  }
 },
 "nbformat": 4,
 "nbformat_minor": 1
}