{
 "cells": [
  {
   "cell_type": "markdown",
   "metadata": {},
   "source": [
    "# Pandas (1)"
   ]
  },
  {
   "cell_type": "markdown",
   "metadata": {},
   "source": [
    "Материалы:\n",
    "* Макрушин С.В. \"Лекция 2: Библиотека Pandas\"\n",
    "* https://pandas.pydata.org/docs/user_guide/index.html#\n",
    "* https://pandas.pydata.org/docs/reference/index.html"
   ]
  },
  {
   "cell_type": "markdown",
   "metadata": {},
   "source": [
    "## Задачи для совместного разбора"
   ]
  },
  {
   "cell_type": "markdown",
   "metadata": {},
   "source": [
    "1. Загрузите данные из файла `sp500hst.txt` и обозначьте столбцы в соответствии с содержимым: `\"date\", \"ticker\", \"open\", \"high\", \"low\", \"close\", \"volume\"`."
   ]
  },
  {
   "cell_type": "code",
   "execution_count": 26,
   "outputs": [],
   "source": [
    "import pandas as pd"
   ],
   "metadata": {
    "collapsed": false,
    "pycharm": {
     "name": "#%%\n"
    }
   }
  },
  {
   "cell_type": "code",
   "execution_count": 27,
   "outputs": [
    {
     "data": {
      "text/plain": "       date ticker   open     hign     low  close  volume\n0  20090824      A  25.64  25.7400  25.330  25.50   22247\n1  20090825      A  25.50  25.7000  25.225  25.34   30891\n2  20090826      A  25.32  25.6425  25.145  25.48   33334\n3  20090827      A  25.50  25.5700  25.230  25.54   70176\n4  20090828      A  25.67  26.0500  25.630  25.83   39694",
      "text/html": "<div>\n<style scoped>\n    .dataframe tbody tr th:only-of-type {\n        vertical-align: middle;\n    }\n\n    .dataframe tbody tr th {\n        vertical-align: top;\n    }\n\n    .dataframe thead th {\n        text-align: right;\n    }\n</style>\n<table border=\"1\" class=\"dataframe\">\n  <thead>\n    <tr style=\"text-align: right;\">\n      <th></th>\n      <th>date</th>\n      <th>ticker</th>\n      <th>open</th>\n      <th>hign</th>\n      <th>low</th>\n      <th>close</th>\n      <th>volume</th>\n    </tr>\n  </thead>\n  <tbody>\n    <tr>\n      <th>0</th>\n      <td>20090824</td>\n      <td>A</td>\n      <td>25.64</td>\n      <td>25.7400</td>\n      <td>25.330</td>\n      <td>25.50</td>\n      <td>22247</td>\n    </tr>\n    <tr>\n      <th>1</th>\n      <td>20090825</td>\n      <td>A</td>\n      <td>25.50</td>\n      <td>25.7000</td>\n      <td>25.225</td>\n      <td>25.34</td>\n      <td>30891</td>\n    </tr>\n    <tr>\n      <th>2</th>\n      <td>20090826</td>\n      <td>A</td>\n      <td>25.32</td>\n      <td>25.6425</td>\n      <td>25.145</td>\n      <td>25.48</td>\n      <td>33334</td>\n    </tr>\n    <tr>\n      <th>3</th>\n      <td>20090827</td>\n      <td>A</td>\n      <td>25.50</td>\n      <td>25.5700</td>\n      <td>25.230</td>\n      <td>25.54</td>\n      <td>70176</td>\n    </tr>\n    <tr>\n      <th>4</th>\n      <td>20090828</td>\n      <td>A</td>\n      <td>25.67</td>\n      <td>26.0500</td>\n      <td>25.630</td>\n      <td>25.83</td>\n      <td>39694</td>\n    </tr>\n  </tbody>\n</table>\n</div>"
     },
     "execution_count": 27,
     "metadata": {},
     "output_type": "execute_result"
    }
   ],
   "source": [
    "data = pd.read_table('sp500hst.txt',sep =',',header = 0, names= ['date','ticker','open','hign','low','close','volume'])\n",
    "data.head()"
   ],
   "metadata": {
    "collapsed": false,
    "pycharm": {
     "name": "#%%\n"
    }
   }
  },
  {
   "cell_type": "markdown",
   "metadata": {},
   "source": [
    "2. Рассчитайте среднее значение показателей для каждого из столбцов c номерами 3-6."
   ]
  },
  {
   "cell_type": "code",
   "execution_count": 28,
   "outputs": [
    {
     "data": {
      "text/plain": "hign     43.102386\nlow      42.054601\nclose    42.602004\ndtype: float64"
     },
     "execution_count": 28,
     "metadata": {},
     "output_type": "execute_result"
    }
   ],
   "source": [
    "data.iloc[:,3:6].mean()"
   ],
   "metadata": {
    "collapsed": false,
    "pycharm": {
     "name": "#%%\n"
    }
   }
  },
  {
   "cell_type": "markdown",
   "metadata": {},
   "source": [
    "3. Добавьте столбец, содержащий только число месяца, к которому относится дата."
   ]
  },
  {
   "cell_type": "code",
   "execution_count": 29,
   "outputs": [
    {
     "data": {
      "text/plain": "       date ticker   open     hign     low  close  volume  month\n0  20090824      A  25.64  25.7400  25.330  25.50   22247      8\n1  20090825      A  25.50  25.7000  25.225  25.34   30891      8\n2  20090826      A  25.32  25.6425  25.145  25.48   33334      8\n3  20090827      A  25.50  25.5700  25.230  25.54   70176      8\n4  20090828      A  25.67  26.0500  25.630  25.83   39694      8",
      "text/html": "<div>\n<style scoped>\n    .dataframe tbody tr th:only-of-type {\n        vertical-align: middle;\n    }\n\n    .dataframe tbody tr th {\n        vertical-align: top;\n    }\n\n    .dataframe thead th {\n        text-align: right;\n    }\n</style>\n<table border=\"1\" class=\"dataframe\">\n  <thead>\n    <tr style=\"text-align: right;\">\n      <th></th>\n      <th>date</th>\n      <th>ticker</th>\n      <th>open</th>\n      <th>hign</th>\n      <th>low</th>\n      <th>close</th>\n      <th>volume</th>\n      <th>month</th>\n    </tr>\n  </thead>\n  <tbody>\n    <tr>\n      <th>0</th>\n      <td>20090824</td>\n      <td>A</td>\n      <td>25.64</td>\n      <td>25.7400</td>\n      <td>25.330</td>\n      <td>25.50</td>\n      <td>22247</td>\n      <td>8</td>\n    </tr>\n    <tr>\n      <th>1</th>\n      <td>20090825</td>\n      <td>A</td>\n      <td>25.50</td>\n      <td>25.7000</td>\n      <td>25.225</td>\n      <td>25.34</td>\n      <td>30891</td>\n      <td>8</td>\n    </tr>\n    <tr>\n      <th>2</th>\n      <td>20090826</td>\n      <td>A</td>\n      <td>25.32</td>\n      <td>25.6425</td>\n      <td>25.145</td>\n      <td>25.48</td>\n      <td>33334</td>\n      <td>8</td>\n    </tr>\n    <tr>\n      <th>3</th>\n      <td>20090827</td>\n      <td>A</td>\n      <td>25.50</td>\n      <td>25.5700</td>\n      <td>25.230</td>\n      <td>25.54</td>\n      <td>70176</td>\n      <td>8</td>\n    </tr>\n    <tr>\n      <th>4</th>\n      <td>20090828</td>\n      <td>A</td>\n      <td>25.67</td>\n      <td>26.0500</td>\n      <td>25.630</td>\n      <td>25.83</td>\n      <td>39694</td>\n      <td>8</td>\n    </tr>\n  </tbody>\n</table>\n</div>"
     },
     "execution_count": 29,
     "metadata": {},
     "output_type": "execute_result"
    }
   ],
   "source": [
    "data['DateTime'] = data['date'].apply(lambda x: pd.to_datetime(str(x), format='%Y%m%d'))\n",
    "data['month'] = pd.DatetimeIndex(data['DateTime']).month\n",
    "data = data.drop(['DateTime'], axis=1)\n",
    "data.head()"
   ],
   "metadata": {
    "collapsed": false,
    "pycharm": {
     "name": "#%%\n"
    }
   }
  },
  {
   "cell_type": "markdown",
   "metadata": {},
   "source": [
    "## Лабораторная работа №2.1"
   ]
  },
  {
   "cell_type": "markdown",
   "metadata": {},
   "source": [
    "### Базовые операции с `DataFrame`"
   ]
  },
  {
   "cell_type": "markdown",
   "metadata": {},
   "source": [
    "1.1 В файлах `recipes_sample.csv` и `reviews_sample.csv` находится информация об рецептах блюд и отзывах на эти рецепты соответственно. Загрузите данные из файлов в виде `pd.DataFrame` с названиями `recipes` и `reviews`. Обратите внимание на корректное считывание столбца(ов) с индексами."
   ]
  },
  {
   "cell_type": "code",
   "execution_count": 30,
   "outputs": [],
   "source": [
    "recipes = pd.read_csv('recipes_sample.csv')\n",
    "reviews = pd.read_csv('reviews_sample.csv',index_col = 0)"
   ],
   "metadata": {
    "collapsed": false,
    "pycharm": {
     "name": "#%%\n"
    }
   }
  },
  {
   "cell_type": "code",
   "execution_count": 31,
   "outputs": [
    {
     "data": {
      "text/plain": "           user_id  recipe_id        date  rating  \\\n370476       21752      57993  2003-05-01       5   \n624300      431813     142201  2007-09-16       5   \n187037      400708     252013  2008-01-10       4   \n706134  2001852463     404716  2017-12-11       5   \n312179       95810     129396  2008-03-14       5   \n\n                                                   review  \n370476  Last week whole sides of frozen salmon fillet ...  \n624300  So simple and so tasty!  I used a yellow capsi...  \n187037  Very nice breakfast HH, easy to make and yummy...  \n706134  These are a favorite for the holidays and so e...  \n312179  Excellent soup!  The tomato flavor is just gre...  ",
      "text/html": "<div>\n<style scoped>\n    .dataframe tbody tr th:only-of-type {\n        vertical-align: middle;\n    }\n\n    .dataframe tbody tr th {\n        vertical-align: top;\n    }\n\n    .dataframe thead th {\n        text-align: right;\n    }\n</style>\n<table border=\"1\" class=\"dataframe\">\n  <thead>\n    <tr style=\"text-align: right;\">\n      <th></th>\n      <th>user_id</th>\n      <th>recipe_id</th>\n      <th>date</th>\n      <th>rating</th>\n      <th>review</th>\n    </tr>\n  </thead>\n  <tbody>\n    <tr>\n      <th>370476</th>\n      <td>21752</td>\n      <td>57993</td>\n      <td>2003-05-01</td>\n      <td>5</td>\n      <td>Last week whole sides of frozen salmon fillet ...</td>\n    </tr>\n    <tr>\n      <th>624300</th>\n      <td>431813</td>\n      <td>142201</td>\n      <td>2007-09-16</td>\n      <td>5</td>\n      <td>So simple and so tasty!  I used a yellow capsi...</td>\n    </tr>\n    <tr>\n      <th>187037</th>\n      <td>400708</td>\n      <td>252013</td>\n      <td>2008-01-10</td>\n      <td>4</td>\n      <td>Very nice breakfast HH, easy to make and yummy...</td>\n    </tr>\n    <tr>\n      <th>706134</th>\n      <td>2001852463</td>\n      <td>404716</td>\n      <td>2017-12-11</td>\n      <td>5</td>\n      <td>These are a favorite for the holidays and so e...</td>\n    </tr>\n    <tr>\n      <th>312179</th>\n      <td>95810</td>\n      <td>129396</td>\n      <td>2008-03-14</td>\n      <td>5</td>\n      <td>Excellent soup!  The tomato flavor is just gre...</td>\n    </tr>\n  </tbody>\n</table>\n</div>"
     },
     "execution_count": 31,
     "metadata": {},
     "output_type": "execute_result"
    }
   ],
   "source": [
    "reviews.head()"
   ],
   "metadata": {
    "collapsed": false,
    "pycharm": {
     "name": "#%%\n"
    }
   }
  },
  {
   "cell_type": "markdown",
   "metadata": {},
   "source": [
    "1.2 Для каждой из таблиц выведите основные параметры:\n",
    "* количество точек данных (строк);\n",
    "* количество столбцов;\n",
    "* тип данных каждого столбца."
   ]
  },
  {
   "cell_type": "code",
   "execution_count": 32,
   "outputs": [
    {
     "name": "stdout",
     "output_type": "stream",
     "text": [
      "Количество строк: 30000 \n",
      "Количество столбцов: 8 \n",
      "Типы данных каждого стобца:\n"
     ]
    },
    {
     "data": {
      "text/plain": "name               object\nid                  int64\nminutes             int64\ncontributor_id      int64\nsubmitted          object\nn_steps           float64\ndescription        object\nn_ingredients     float64\ndtype: object"
     },
     "execution_count": 32,
     "metadata": {},
     "output_type": "execute_result"
    }
   ],
   "source": [
    "print(f'Количество строк: {recipes.shape[0]} \\nКоличество столбцов: {recipes.shape[1]} ')\n",
    "print('Типы данных каждого стобца:')\n",
    "recipes.dtypes"
   ],
   "metadata": {
    "collapsed": false,
    "pycharm": {
     "name": "#%%\n"
    }
   }
  },
  {
   "cell_type": "code",
   "execution_count": 33,
   "outputs": [
    {
     "name": "stdout",
     "output_type": "stream",
     "text": [
      "Количество строк: 126696 \n",
      "Количество столбцов: 5 \n",
      "Типы данных каждого стобца:\n"
     ]
    },
    {
     "data": {
      "text/plain": "user_id       int64\nrecipe_id     int64\ndate         object\nrating        int64\nreview       object\ndtype: object"
     },
     "execution_count": 33,
     "metadata": {},
     "output_type": "execute_result"
    }
   ],
   "source": [
    "print(f'Количество строк: {reviews.shape[0]} \\nКоличество столбцов: {reviews.shape[1]} ')\n",
    "print('Типы данных каждого стобца:')\n",
    "reviews.dtypes"
   ],
   "metadata": {
    "collapsed": false,
    "pycharm": {
     "name": "#%%\n"
    }
   }
  },
  {
   "cell_type": "markdown",
   "metadata": {},
   "source": [
    "1.3 Исследуйте, в каких столбцах таблиц содержатся пропуски. Посчитайте долю строк, содержащих пропуски, в отношении к общему количеству строк."
   ]
  },
  {
   "cell_type": "code",
   "execution_count": 34,
   "outputs": [
    {
     "name": "stdout",
     "output_type": "stream",
     "text": [
      "Доля строк, содержащих пропуски, в отношении к общему количеству строк: 56.846666666666664\n"
     ]
    }
   ],
   "source": [
    "print(f'Доля строк, содержащих пропуски, в отношении к общему количеству строк: {sum([True for idx, row in recipes.iterrows() if any(row.isnull())]) / len(recipes) * 100}')"
   ],
   "metadata": {
    "collapsed": false,
    "pycharm": {
     "name": "#%%\n"
    }
   }
  },
  {
   "cell_type": "code",
   "execution_count": 35,
   "outputs": [
    {
     "name": "stdout",
     "output_type": "stream",
     "text": [
      "Доля строк, содержащих пропуски, в отношении к общему количеству строк: 0.013417945317926377\n"
     ]
    }
   ],
   "source": [
    "print(f'Доля строк, содержащих пропуски, в отношении к общему количеству строк: {sum([True for idx, row in reviews.iterrows() if any(row.isnull())]) / len(reviews) * 100}')"
   ],
   "metadata": {
    "collapsed": false,
    "pycharm": {
     "name": "#%%\n"
    }
   }
  },
  {
   "cell_type": "markdown",
   "metadata": {},
   "source": [
    "1.4 Рассчитайте среднее значение для каждого из числовых столбцов (где это имеет смысл)."
   ]
  },
  {
   "cell_type": "code",
   "execution_count": 36,
   "outputs": [
    {
     "data": {
      "text/plain": "           user_id  recipe_id        date  rating  \\\n370476       21752      57993  2003-05-01       5   \n624300      431813     142201  2007-09-16       5   \n187037      400708     252013  2008-01-10       4   \n706134  2001852463     404716  2017-12-11       5   \n312179       95810     129396  2008-03-14       5   \n\n                                                   review  \n370476  Last week whole sides of frozen salmon fillet ...  \n624300  So simple and so tasty!  I used a yellow capsi...  \n187037  Very nice breakfast HH, easy to make and yummy...  \n706134  These are a favorite for the holidays and so e...  \n312179  Excellent soup!  The tomato flavor is just gre...  ",
      "text/html": "<div>\n<style scoped>\n    .dataframe tbody tr th:only-of-type {\n        vertical-align: middle;\n    }\n\n    .dataframe tbody tr th {\n        vertical-align: top;\n    }\n\n    .dataframe thead th {\n        text-align: right;\n    }\n</style>\n<table border=\"1\" class=\"dataframe\">\n  <thead>\n    <tr style=\"text-align: right;\">\n      <th></th>\n      <th>user_id</th>\n      <th>recipe_id</th>\n      <th>date</th>\n      <th>rating</th>\n      <th>review</th>\n    </tr>\n  </thead>\n  <tbody>\n    <tr>\n      <th>370476</th>\n      <td>21752</td>\n      <td>57993</td>\n      <td>2003-05-01</td>\n      <td>5</td>\n      <td>Last week whole sides of frozen salmon fillet ...</td>\n    </tr>\n    <tr>\n      <th>624300</th>\n      <td>431813</td>\n      <td>142201</td>\n      <td>2007-09-16</td>\n      <td>5</td>\n      <td>So simple and so tasty!  I used a yellow capsi...</td>\n    </tr>\n    <tr>\n      <th>187037</th>\n      <td>400708</td>\n      <td>252013</td>\n      <td>2008-01-10</td>\n      <td>4</td>\n      <td>Very nice breakfast HH, easy to make and yummy...</td>\n    </tr>\n    <tr>\n      <th>706134</th>\n      <td>2001852463</td>\n      <td>404716</td>\n      <td>2017-12-11</td>\n      <td>5</td>\n      <td>These are a favorite for the holidays and so e...</td>\n    </tr>\n    <tr>\n      <th>312179</th>\n      <td>95810</td>\n      <td>129396</td>\n      <td>2008-03-14</td>\n      <td>5</td>\n      <td>Excellent soup!  The tomato flavor is just gre...</td>\n    </tr>\n  </tbody>\n</table>\n</div>"
     },
     "execution_count": 36,
     "metadata": {},
     "output_type": "execute_result"
    }
   ],
   "source": [
    "reviews.head()"
   ],
   "metadata": {
    "collapsed": false,
    "pycharm": {
     "name": "#%%\n"
    }
   }
  },
  {
   "cell_type": "code",
   "execution_count": 37,
   "outputs": [
    {
     "name": "stdout",
     "output_type": "stream",
     "text": [
      "Среднее значение рейтинга: 4.411\n"
     ]
    }
   ],
   "source": [
    "print(f'Среднее значение рейтинга: {round(reviews.rating.mean(),3)}')"
   ],
   "metadata": {
    "collapsed": false,
    "pycharm": {
     "name": "#%%\n"
    }
   }
  },
  {
   "cell_type": "code",
   "execution_count": 38,
   "outputs": [
    {
     "data": {
      "text/plain": "                                       name     id  minutes  contributor_id  \\\n0     george s at the cove  black bean soup  44123       90           35193   \n1        healthy for them  yogurt popsicles  67664       10           91970   \n2              i can t believe it s spinach  38798       30            1533   \n3                      italian  gut busters  35173       45           22724   \n4  love is in the air  beef fondue   sauces  84797       25            4470   \n\n    submitted  n_steps                                        description  \\\n0  2002-10-25      NaN  an original recipe created by chef scott meska...   \n1  2003-07-26      NaN  my children and their friends ask for my homem...   \n2  2002-08-29      NaN            these were so go, it surprised even me.   \n3  2002-07-27      NaN  my sister-in-law made these for us at a family...   \n4  2004-02-23      4.0  i think a fondue is a very romantic casual din...   \n\n   n_ingredients  \n0           18.0  \n1            NaN  \n2            8.0  \n3            NaN  \n4            NaN  ",
      "text/html": "<div>\n<style scoped>\n    .dataframe tbody tr th:only-of-type {\n        vertical-align: middle;\n    }\n\n    .dataframe tbody tr th {\n        vertical-align: top;\n    }\n\n    .dataframe thead th {\n        text-align: right;\n    }\n</style>\n<table border=\"1\" class=\"dataframe\">\n  <thead>\n    <tr style=\"text-align: right;\">\n      <th></th>\n      <th>name</th>\n      <th>id</th>\n      <th>minutes</th>\n      <th>contributor_id</th>\n      <th>submitted</th>\n      <th>n_steps</th>\n      <th>description</th>\n      <th>n_ingredients</th>\n    </tr>\n  </thead>\n  <tbody>\n    <tr>\n      <th>0</th>\n      <td>george s at the cove  black bean soup</td>\n      <td>44123</td>\n      <td>90</td>\n      <td>35193</td>\n      <td>2002-10-25</td>\n      <td>NaN</td>\n      <td>an original recipe created by chef scott meska...</td>\n      <td>18.0</td>\n    </tr>\n    <tr>\n      <th>1</th>\n      <td>healthy for them  yogurt popsicles</td>\n      <td>67664</td>\n      <td>10</td>\n      <td>91970</td>\n      <td>2003-07-26</td>\n      <td>NaN</td>\n      <td>my children and their friends ask for my homem...</td>\n      <td>NaN</td>\n    </tr>\n    <tr>\n      <th>2</th>\n      <td>i can t believe it s spinach</td>\n      <td>38798</td>\n      <td>30</td>\n      <td>1533</td>\n      <td>2002-08-29</td>\n      <td>NaN</td>\n      <td>these were so go, it surprised even me.</td>\n      <td>8.0</td>\n    </tr>\n    <tr>\n      <th>3</th>\n      <td>italian  gut busters</td>\n      <td>35173</td>\n      <td>45</td>\n      <td>22724</td>\n      <td>2002-07-27</td>\n      <td>NaN</td>\n      <td>my sister-in-law made these for us at a family...</td>\n      <td>NaN</td>\n    </tr>\n    <tr>\n      <th>4</th>\n      <td>love is in the air  beef fondue   sauces</td>\n      <td>84797</td>\n      <td>25</td>\n      <td>4470</td>\n      <td>2004-02-23</td>\n      <td>4.0</td>\n      <td>i think a fondue is a very romantic casual din...</td>\n      <td>NaN</td>\n    </tr>\n  </tbody>\n</table>\n</div>"
     },
     "execution_count": 38,
     "metadata": {},
     "output_type": "execute_result"
    }
   ],
   "source": [
    "recipes.head()"
   ],
   "metadata": {
    "collapsed": false,
    "pycharm": {
     "name": "#%%\n"
    }
   }
  },
  {
   "cell_type": "code",
   "execution_count": 39,
   "outputs": [
    {
     "name": "stdout",
     "output_type": "stream",
     "text": [
      "Среднее значение времени готовки: 123.358\n",
      "Среднее значение количества шагов: 9.806\n",
      "Среднее значение количества ингредиентов: 9.008\n"
     ]
    }
   ],
   "source": [
    "print(f'Среднее значение времени готовки: {round(recipes.minutes.mean(),3)}')\n",
    "print(f'Среднее значение количества шагов: {round(recipes.n_steps.mean(),3)}')\n",
    "print(f'Среднее значение количества ингредиентов: {round(recipes.n_ingredients.mean(),3)}')"
   ],
   "metadata": {
    "collapsed": false,
    "pycharm": {
     "name": "#%%\n"
    }
   }
  },
  {
   "cell_type": "markdown",
   "metadata": {},
   "source": [
    "1.5 Создайте серию из 10 случайных названий рецептов."
   ]
  },
  {
   "cell_type": "code",
   "execution_count": 40,
   "outputs": [
    {
     "data": {
      "text/plain": "6102           chicken with white wine   fresh herb sauce\n2539                                    bean burrito bake\n21576                           prize winning pumpkin pie\n19574                                    oven chuck roast\n12804                                grilled basil salmon\n24030                         shrimp and crab pasta salad\n20273                      peanut butter sandwich cookies\n7538     coquille st  jacques  scallops with beurre blanc\n3196                              black raspberry cobbler\n12935                       grilled monte cristo sandwich\nName: name, dtype: object"
     },
     "execution_count": 40,
     "metadata": {},
     "output_type": "execute_result"
    }
   ],
   "source": [
    "recipes['name'].sample(n=10, random_state=100)"
   ],
   "metadata": {
    "collapsed": false,
    "pycharm": {
     "name": "#%%\n"
    }
   }
  },
  {
   "cell_type": "markdown",
   "metadata": {},
   "source": [
    "1.6 Измените индекс в таблице `reviews`, пронумеровав строки, начиная с нуля."
   ]
  },
  {
   "cell_type": "code",
   "execution_count": 41,
   "outputs": [
    {
     "data": {
      "text/plain": "           user_id  recipe_id        date  rating  \\\n0            21752      57993  2003-05-01       5   \n1           431813     142201  2007-09-16       5   \n2           400708     252013  2008-01-10       4   \n3       2001852463     404716  2017-12-11       5   \n4            95810     129396  2008-03-14       5   \n...            ...        ...         ...     ...   \n126691     1270706     335534  2009-05-17       4   \n126692     2282344       8701  2012-06-03       0   \n126693      689540     222001  2008-04-08       5   \n126694  2000242659     354979  2015-06-02       5   \n126695      463435     415599  2010-09-30       5   \n\n                                                   review  \n0       Last week whole sides of frozen salmon fillet ...  \n1       So simple and so tasty!  I used a yellow capsi...  \n2       Very nice breakfast HH, easy to make and yummy...  \n3       These are a favorite for the holidays and so e...  \n4       Excellent soup!  The tomato flavor is just gre...  \n...                                                   ...  \n126691  This recipe was great! I made it last night. I...  \n126692  This recipe is outstanding. I followed the rec...  \n126693  Well, we were not a crowd but it was a fabulou...  \n126694  I have been a steak eater and dedicated BBQ gr...  \n126695  Wonderful and simple to prepare seasoning blen...  \n\n[126696 rows x 5 columns]",
      "text/html": "<div>\n<style scoped>\n    .dataframe tbody tr th:only-of-type {\n        vertical-align: middle;\n    }\n\n    .dataframe tbody tr th {\n        vertical-align: top;\n    }\n\n    .dataframe thead th {\n        text-align: right;\n    }\n</style>\n<table border=\"1\" class=\"dataframe\">\n  <thead>\n    <tr style=\"text-align: right;\">\n      <th></th>\n      <th>user_id</th>\n      <th>recipe_id</th>\n      <th>date</th>\n      <th>rating</th>\n      <th>review</th>\n    </tr>\n  </thead>\n  <tbody>\n    <tr>\n      <th>0</th>\n      <td>21752</td>\n      <td>57993</td>\n      <td>2003-05-01</td>\n      <td>5</td>\n      <td>Last week whole sides of frozen salmon fillet ...</td>\n    </tr>\n    <tr>\n      <th>1</th>\n      <td>431813</td>\n      <td>142201</td>\n      <td>2007-09-16</td>\n      <td>5</td>\n      <td>So simple and so tasty!  I used a yellow capsi...</td>\n    </tr>\n    <tr>\n      <th>2</th>\n      <td>400708</td>\n      <td>252013</td>\n      <td>2008-01-10</td>\n      <td>4</td>\n      <td>Very nice breakfast HH, easy to make and yummy...</td>\n    </tr>\n    <tr>\n      <th>3</th>\n      <td>2001852463</td>\n      <td>404716</td>\n      <td>2017-12-11</td>\n      <td>5</td>\n      <td>These are a favorite for the holidays and so e...</td>\n    </tr>\n    <tr>\n      <th>4</th>\n      <td>95810</td>\n      <td>129396</td>\n      <td>2008-03-14</td>\n      <td>5</td>\n      <td>Excellent soup!  The tomato flavor is just gre...</td>\n    </tr>\n    <tr>\n      <th>...</th>\n      <td>...</td>\n      <td>...</td>\n      <td>...</td>\n      <td>...</td>\n      <td>...</td>\n    </tr>\n    <tr>\n      <th>126691</th>\n      <td>1270706</td>\n      <td>335534</td>\n      <td>2009-05-17</td>\n      <td>4</td>\n      <td>This recipe was great! I made it last night. I...</td>\n    </tr>\n    <tr>\n      <th>126692</th>\n      <td>2282344</td>\n      <td>8701</td>\n      <td>2012-06-03</td>\n      <td>0</td>\n      <td>This recipe is outstanding. I followed the rec...</td>\n    </tr>\n    <tr>\n      <th>126693</th>\n      <td>689540</td>\n      <td>222001</td>\n      <td>2008-04-08</td>\n      <td>5</td>\n      <td>Well, we were not a crowd but it was a fabulou...</td>\n    </tr>\n    <tr>\n      <th>126694</th>\n      <td>2000242659</td>\n      <td>354979</td>\n      <td>2015-06-02</td>\n      <td>5</td>\n      <td>I have been a steak eater and dedicated BBQ gr...</td>\n    </tr>\n    <tr>\n      <th>126695</th>\n      <td>463435</td>\n      <td>415599</td>\n      <td>2010-09-30</td>\n      <td>5</td>\n      <td>Wonderful and simple to prepare seasoning blen...</td>\n    </tr>\n  </tbody>\n</table>\n<p>126696 rows × 5 columns</p>\n</div>"
     },
     "execution_count": 41,
     "metadata": {},
     "output_type": "execute_result"
    }
   ],
   "source": [
    "reviews = reviews.reset_index().drop(['index'],axis=1)\n",
    "reviews"
   ],
   "metadata": {
    "collapsed": false,
    "pycharm": {
     "name": "#%%\n"
    }
   }
  },
  {
   "cell_type": "markdown",
   "metadata": {},
   "source": [
    "1.7 Выведите информацию о рецептах, время выполнения которых не больше 20 минут и кол-во ингредиентов в которых не больше 5."
   ]
  },
  {
   "cell_type": "code",
   "execution_count": 42,
   "outputs": [
    {
     "data": {
      "text/plain": "                                                    name      id  minutes  \\\n28                                   quick biscuit bread  302399       20   \n60                         peas  fit for a king or queen  303944       20   \n90                     hawaiian sunrise           mimosa  100837        5   \n91            tasty dish s   banana pudding in 2 minutes  286484        2   \n94                                    1 minute meatballs   11361       13   \n...                                                  ...     ...      ...   \n29873  zip and steam red potatoes with butter and garlic  304922       13   \n29874                          ziplock vanilla ice cream   74250       10   \n29905                      zucchini and corn with cheese  256177       15   \n29980               zucchini with jalapeno monterey jack  320622       10   \n29983                          zucchini with serrano ham  162411       15   \n\n       contributor_id   submitted  n_steps  \\\n28             213909  2008-05-06     11.0   \n60             213909  2008-05-16      NaN   \n90              58104  2004-09-29      4.0   \n91              47892  2008-02-13      NaN   \n94               4470  2001-09-03      NaN   \n...               ...         ...      ...   \n29873          724218  2008-05-27      9.0   \n29874           24386  2003-10-29      8.0   \n29905          305531  2007-09-29      4.0   \n29980          305531  2008-08-20      3.0   \n29983          152500  2006-03-31      6.0   \n\n                                             description  n_ingredients  \n28     this is a wonderful quick bread to make as an ...            5.0  \n60     this recipe is so simple and the flavors are s...            5.0  \n90     pineapple mimosa was changed to hawaiian sunri...            3.0  \n91     \"mmmm, i love bananas!\" a --tasty dish-- origi...            4.0  \n94     this is a real short cut for cooks in a hurry....            2.0  \n...                                                  ...            ...  \n29873  i haven't tried this yet, but i am going to so...            5.0  \n29874  a fun thing for kids to do. may want to use mi...            3.0  \n29905  from betty crocker fresh spring recipes. i lik...            5.0  \n29980                                  simple and yummy!            3.0  \n29983  this dish is from tim malzer, a german chef wh...            5.0  \n\n[2019 rows x 8 columns]",
      "text/html": "<div>\n<style scoped>\n    .dataframe tbody tr th:only-of-type {\n        vertical-align: middle;\n    }\n\n    .dataframe tbody tr th {\n        vertical-align: top;\n    }\n\n    .dataframe thead th {\n        text-align: right;\n    }\n</style>\n<table border=\"1\" class=\"dataframe\">\n  <thead>\n    <tr style=\"text-align: right;\">\n      <th></th>\n      <th>name</th>\n      <th>id</th>\n      <th>minutes</th>\n      <th>contributor_id</th>\n      <th>submitted</th>\n      <th>n_steps</th>\n      <th>description</th>\n      <th>n_ingredients</th>\n    </tr>\n  </thead>\n  <tbody>\n    <tr>\n      <th>28</th>\n      <td>quick biscuit bread</td>\n      <td>302399</td>\n      <td>20</td>\n      <td>213909</td>\n      <td>2008-05-06</td>\n      <td>11.0</td>\n      <td>this is a wonderful quick bread to make as an ...</td>\n      <td>5.0</td>\n    </tr>\n    <tr>\n      <th>60</th>\n      <td>peas  fit for a king or queen</td>\n      <td>303944</td>\n      <td>20</td>\n      <td>213909</td>\n      <td>2008-05-16</td>\n      <td>NaN</td>\n      <td>this recipe is so simple and the flavors are s...</td>\n      <td>5.0</td>\n    </tr>\n    <tr>\n      <th>90</th>\n      <td>hawaiian sunrise           mimosa</td>\n      <td>100837</td>\n      <td>5</td>\n      <td>58104</td>\n      <td>2004-09-29</td>\n      <td>4.0</td>\n      <td>pineapple mimosa was changed to hawaiian sunri...</td>\n      <td>3.0</td>\n    </tr>\n    <tr>\n      <th>91</th>\n      <td>tasty dish s   banana pudding in 2 minutes</td>\n      <td>286484</td>\n      <td>2</td>\n      <td>47892</td>\n      <td>2008-02-13</td>\n      <td>NaN</td>\n      <td>\"mmmm, i love bananas!\" a --tasty dish-- origi...</td>\n      <td>4.0</td>\n    </tr>\n    <tr>\n      <th>94</th>\n      <td>1 minute meatballs</td>\n      <td>11361</td>\n      <td>13</td>\n      <td>4470</td>\n      <td>2001-09-03</td>\n      <td>NaN</td>\n      <td>this is a real short cut for cooks in a hurry....</td>\n      <td>2.0</td>\n    </tr>\n    <tr>\n      <th>...</th>\n      <td>...</td>\n      <td>...</td>\n      <td>...</td>\n      <td>...</td>\n      <td>...</td>\n      <td>...</td>\n      <td>...</td>\n      <td>...</td>\n    </tr>\n    <tr>\n      <th>29873</th>\n      <td>zip and steam red potatoes with butter and garlic</td>\n      <td>304922</td>\n      <td>13</td>\n      <td>724218</td>\n      <td>2008-05-27</td>\n      <td>9.0</td>\n      <td>i haven't tried this yet, but i am going to so...</td>\n      <td>5.0</td>\n    </tr>\n    <tr>\n      <th>29874</th>\n      <td>ziplock vanilla ice cream</td>\n      <td>74250</td>\n      <td>10</td>\n      <td>24386</td>\n      <td>2003-10-29</td>\n      <td>8.0</td>\n      <td>a fun thing for kids to do. may want to use mi...</td>\n      <td>3.0</td>\n    </tr>\n    <tr>\n      <th>29905</th>\n      <td>zucchini and corn with cheese</td>\n      <td>256177</td>\n      <td>15</td>\n      <td>305531</td>\n      <td>2007-09-29</td>\n      <td>4.0</td>\n      <td>from betty crocker fresh spring recipes. i lik...</td>\n      <td>5.0</td>\n    </tr>\n    <tr>\n      <th>29980</th>\n      <td>zucchini with jalapeno monterey jack</td>\n      <td>320622</td>\n      <td>10</td>\n      <td>305531</td>\n      <td>2008-08-20</td>\n      <td>3.0</td>\n      <td>simple and yummy!</td>\n      <td>3.0</td>\n    </tr>\n    <tr>\n      <th>29983</th>\n      <td>zucchini with serrano ham</td>\n      <td>162411</td>\n      <td>15</td>\n      <td>152500</td>\n      <td>2006-03-31</td>\n      <td>6.0</td>\n      <td>this dish is from tim malzer, a german chef wh...</td>\n      <td>5.0</td>\n    </tr>\n  </tbody>\n</table>\n<p>2019 rows × 8 columns</p>\n</div>"
     },
     "execution_count": 42,
     "metadata": {},
     "output_type": "execute_result"
    }
   ],
   "source": [
    "recipes[(recipes['minutes']<=20) & (recipes['n_ingredients']<=5)]"
   ],
   "metadata": {
    "collapsed": false,
    "pycharm": {
     "name": "#%%\n"
    }
   }
  },
  {
   "cell_type": "markdown",
   "metadata": {},
   "source": [
    "### Работа с датами в `pandas`"
   ]
  },
  {
   "cell_type": "markdown",
   "metadata": {},
   "source": [
    "2.1 Преобразуйте столбец `submitted` из таблицы `recipes` в формат времени. Модифицируйте решение задачи 1.1 так, чтобы считать столбец сразу в нужном формате."
   ]
  },
  {
   "cell_type": "code",
   "execution_count": 43,
   "outputs": [],
   "source": [
    "recipes['submitted'] = recipes['submitted'].apply(lambda x: pd.to_datetime(x))"
   ],
   "metadata": {
    "collapsed": false,
    "pycharm": {
     "name": "#%%\n"
    }
   }
  },
  {
   "cell_type": "code",
   "execution_count": 44,
   "outputs": [
    {
     "name": "stdout",
     "output_type": "stream",
     "text": [
      "<class 'pandas.core.frame.DataFrame'>\n",
      "RangeIndex: 30000 entries, 0 to 29999\n",
      "Data columns (total 8 columns):\n",
      " #   Column          Non-Null Count  Dtype         \n",
      "---  ------          --------------  -----         \n",
      " 0   name            30000 non-null  object        \n",
      " 1   id              30000 non-null  int64         \n",
      " 2   minutes         30000 non-null  int64         \n",
      " 3   contributor_id  30000 non-null  int64         \n",
      " 4   submitted       30000 non-null  datetime64[ns]\n",
      " 5   n_steps         18810 non-null  float64       \n",
      " 6   description     29377 non-null  object        \n",
      " 7   n_ingredients   21120 non-null  float64       \n",
      "dtypes: datetime64[ns](1), float64(2), int64(3), object(2)\n",
      "memory usage: 1.8+ MB\n"
     ]
    }
   ],
   "source": [
    "recipes.info()"
   ],
   "metadata": {
    "collapsed": false,
    "pycharm": {
     "name": "#%%\n"
    }
   }
  },
  {
   "cell_type": "code",
   "execution_count": 45,
   "outputs": [
    {
     "name": "stdout",
     "output_type": "stream",
     "text": [
      "<class 'pandas.core.frame.DataFrame'>\n",
      "RangeIndex: 30000 entries, 0 to 29999\n",
      "Data columns (total 8 columns):\n",
      " #   Column          Non-Null Count  Dtype         \n",
      "---  ------          --------------  -----         \n",
      " 0   name            30000 non-null  object        \n",
      " 1   id              30000 non-null  int64         \n",
      " 2   minutes         30000 non-null  int64         \n",
      " 3   contributor_id  30000 non-null  int64         \n",
      " 4   submitted       30000 non-null  datetime64[ns]\n",
      " 5   n_steps         18810 non-null  float64       \n",
      " 6   description     29377 non-null  object        \n",
      " 7   n_ingredients   21120 non-null  float64       \n",
      "dtypes: datetime64[ns](1), float64(2), int64(3), object(2)\n",
      "memory usage: 1.8+ MB\n"
     ]
    }
   ],
   "source": [
    "parse_dates = ['submitted']\n",
    "recipes = pd.read_csv('recipes_sample.csv',parse_dates=parse_dates)\n",
    "recipes.info()"
   ],
   "metadata": {
    "collapsed": false,
    "pycharm": {
     "name": "#%%\n"
    }
   }
  },
  {
   "cell_type": "markdown",
   "metadata": {},
   "source": [
    "2.2 Выведите информацию о рецептах, добавленных в датасет не позже 2010 года."
   ]
  },
  {
   "cell_type": "code",
   "execution_count": 46,
   "outputs": [
    {
     "data": {
      "text/plain": "                                                    name      id  minutes  \\\n8                     1 in canada chocolate chip cookies  453467       45   \n13               blepandekager   danish   apple pancakes  503475       50   \n36                                 5 minute bread  pizza  487173       45   \n39                    bacon cheeseburger and fries  soup  447429       60   \n47                        full cool  macaroni and cheese  463219       25   \n...                                                  ...     ...      ...   \n29965                         zucchini sausage casserole  472482       80   \n29976                                      zucchini tots  505053       20   \n29992  zucchini  courgette soup  good for weight watc...  415406       45   \n29994                                     zuppa by luisa  464576       70   \n29998                                        zydeco soup  486161       60   \n\n       contributor_id  submitted  n_steps  \\\n8             1848091 2011-04-11     12.0   \n13             128473 2013-07-08     10.0   \n36            2406227 2012-09-19     30.0   \n39            1355934 2011-01-26      NaN   \n47             383346 2011-08-28      8.0   \n...               ...        ...      ...   \n29965          447199 2012-01-20     13.0   \n29976          798181 2013-07-31      NaN   \n29992          485109 2010-03-04      5.0   \n29994          226863 2011-09-20     14.0   \n29998          227978 2012-08-29      NaN   \n\n                                             description  n_ingredients  \n8      this is the recipe that we use at my school ca...           11.0  \n13     this recipe has been posted here for play in z...            NaN  \n36     my son recently showed me a recipe for artisan...            8.0  \n39     my son asked for cheeseburger soup, and having...           17.0  \n47     a recipe from ricardo that is popular with kid...           11.0  \n...                                                  ...            ...  \n29965  this was a real hit with my family! this recip...            NaN  \n29976  'the happy homemaker blog' shared this recipe ...            NaN  \n29992  this is a favourite winter warmer. by british ...            NaN  \n29994     this soup is a hearty meal!  from luisa musso.           17.0  \n29998  this is a delicious soup that i originally fou...            NaN  \n\n[3877 rows x 8 columns]",
      "text/html": "<div>\n<style scoped>\n    .dataframe tbody tr th:only-of-type {\n        vertical-align: middle;\n    }\n\n    .dataframe tbody tr th {\n        vertical-align: top;\n    }\n\n    .dataframe thead th {\n        text-align: right;\n    }\n</style>\n<table border=\"1\" class=\"dataframe\">\n  <thead>\n    <tr style=\"text-align: right;\">\n      <th></th>\n      <th>name</th>\n      <th>id</th>\n      <th>minutes</th>\n      <th>contributor_id</th>\n      <th>submitted</th>\n      <th>n_steps</th>\n      <th>description</th>\n      <th>n_ingredients</th>\n    </tr>\n  </thead>\n  <tbody>\n    <tr>\n      <th>8</th>\n      <td>1 in canada chocolate chip cookies</td>\n      <td>453467</td>\n      <td>45</td>\n      <td>1848091</td>\n      <td>2011-04-11</td>\n      <td>12.0</td>\n      <td>this is the recipe that we use at my school ca...</td>\n      <td>11.0</td>\n    </tr>\n    <tr>\n      <th>13</th>\n      <td>blepandekager   danish   apple pancakes</td>\n      <td>503475</td>\n      <td>50</td>\n      <td>128473</td>\n      <td>2013-07-08</td>\n      <td>10.0</td>\n      <td>this recipe has been posted here for play in z...</td>\n      <td>NaN</td>\n    </tr>\n    <tr>\n      <th>36</th>\n      <td>5 minute bread  pizza</td>\n      <td>487173</td>\n      <td>45</td>\n      <td>2406227</td>\n      <td>2012-09-19</td>\n      <td>30.0</td>\n      <td>my son recently showed me a recipe for artisan...</td>\n      <td>8.0</td>\n    </tr>\n    <tr>\n      <th>39</th>\n      <td>bacon cheeseburger and fries  soup</td>\n      <td>447429</td>\n      <td>60</td>\n      <td>1355934</td>\n      <td>2011-01-26</td>\n      <td>NaN</td>\n      <td>my son asked for cheeseburger soup, and having...</td>\n      <td>17.0</td>\n    </tr>\n    <tr>\n      <th>47</th>\n      <td>full cool  macaroni and cheese</td>\n      <td>463219</td>\n      <td>25</td>\n      <td>383346</td>\n      <td>2011-08-28</td>\n      <td>8.0</td>\n      <td>a recipe from ricardo that is popular with kid...</td>\n      <td>11.0</td>\n    </tr>\n    <tr>\n      <th>...</th>\n      <td>...</td>\n      <td>...</td>\n      <td>...</td>\n      <td>...</td>\n      <td>...</td>\n      <td>...</td>\n      <td>...</td>\n      <td>...</td>\n    </tr>\n    <tr>\n      <th>29965</th>\n      <td>zucchini sausage casserole</td>\n      <td>472482</td>\n      <td>80</td>\n      <td>447199</td>\n      <td>2012-01-20</td>\n      <td>13.0</td>\n      <td>this was a real hit with my family! this recip...</td>\n      <td>NaN</td>\n    </tr>\n    <tr>\n      <th>29976</th>\n      <td>zucchini tots</td>\n      <td>505053</td>\n      <td>20</td>\n      <td>798181</td>\n      <td>2013-07-31</td>\n      <td>NaN</td>\n      <td>'the happy homemaker blog' shared this recipe ...</td>\n      <td>NaN</td>\n    </tr>\n    <tr>\n      <th>29992</th>\n      <td>zucchini  courgette soup  good for weight watc...</td>\n      <td>415406</td>\n      <td>45</td>\n      <td>485109</td>\n      <td>2010-03-04</td>\n      <td>5.0</td>\n      <td>this is a favourite winter warmer. by british ...</td>\n      <td>NaN</td>\n    </tr>\n    <tr>\n      <th>29994</th>\n      <td>zuppa by luisa</td>\n      <td>464576</td>\n      <td>70</td>\n      <td>226863</td>\n      <td>2011-09-20</td>\n      <td>14.0</td>\n      <td>this soup is a hearty meal!  from luisa musso.</td>\n      <td>17.0</td>\n    </tr>\n    <tr>\n      <th>29998</th>\n      <td>zydeco soup</td>\n      <td>486161</td>\n      <td>60</td>\n      <td>227978</td>\n      <td>2012-08-29</td>\n      <td>NaN</td>\n      <td>this is a delicious soup that i originally fou...</td>\n      <td>NaN</td>\n    </tr>\n  </tbody>\n</table>\n<p>3877 rows × 8 columns</p>\n</div>"
     },
     "execution_count": 46,
     "metadata": {},
     "output_type": "execute_result"
    }
   ],
   "source": [
    "recipes[pd.DatetimeIndex(recipes['submitted']).year>=2010]"
   ],
   "metadata": {
    "collapsed": false,
    "pycharm": {
     "name": "#%%\n"
    }
   }
  },
  {
   "cell_type": "markdown",
   "metadata": {},
   "source": [
    "### Работа со строковыми данными в `pandas`"
   ]
  },
  {
   "cell_type": "markdown",
   "metadata": {},
   "source": [
    "3.1  Добавьте в таблицу `recipes` столбец `description_length`, в котором хранится длина описания рецепта из столбца `description`."
   ]
  },
  {
   "cell_type": "code",
   "execution_count": 47,
   "outputs": [
    {
     "data": {
      "text/plain": "                                       name     id  minutes  contributor_id  \\\n0     george s at the cove  black bean soup  44123       90           35193   \n1        healthy for them  yogurt popsicles  67664       10           91970   \n2              i can t believe it s spinach  38798       30            1533   \n3                      italian  gut busters  35173       45           22724   \n4  love is in the air  beef fondue   sauces  84797       25            4470   \n\n   submitted  n_steps                                        description  \\\n0 2002-10-25      NaN  an original recipe created by chef scott meska...   \n1 2003-07-26      NaN  my children and their friends ask for my homem...   \n2 2002-08-29      NaN            these were so go, it surprised even me.   \n3 2002-07-27      NaN  my sister-in-law made these for us at a family...   \n4 2004-02-23      4.0  i think a fondue is a very romantic casual din...   \n\n   n_ingredients  description_length  \n0           18.0               330.0  \n1            NaN               255.0  \n2            8.0                39.0  \n3            NaN               154.0  \n4            NaN               587.0  ",
      "text/html": "<div>\n<style scoped>\n    .dataframe tbody tr th:only-of-type {\n        vertical-align: middle;\n    }\n\n    .dataframe tbody tr th {\n        vertical-align: top;\n    }\n\n    .dataframe thead th {\n        text-align: right;\n    }\n</style>\n<table border=\"1\" class=\"dataframe\">\n  <thead>\n    <tr style=\"text-align: right;\">\n      <th></th>\n      <th>name</th>\n      <th>id</th>\n      <th>minutes</th>\n      <th>contributor_id</th>\n      <th>submitted</th>\n      <th>n_steps</th>\n      <th>description</th>\n      <th>n_ingredients</th>\n      <th>description_length</th>\n    </tr>\n  </thead>\n  <tbody>\n    <tr>\n      <th>0</th>\n      <td>george s at the cove  black bean soup</td>\n      <td>44123</td>\n      <td>90</td>\n      <td>35193</td>\n      <td>2002-10-25</td>\n      <td>NaN</td>\n      <td>an original recipe created by chef scott meska...</td>\n      <td>18.0</td>\n      <td>330.0</td>\n    </tr>\n    <tr>\n      <th>1</th>\n      <td>healthy for them  yogurt popsicles</td>\n      <td>67664</td>\n      <td>10</td>\n      <td>91970</td>\n      <td>2003-07-26</td>\n      <td>NaN</td>\n      <td>my children and their friends ask for my homem...</td>\n      <td>NaN</td>\n      <td>255.0</td>\n    </tr>\n    <tr>\n      <th>2</th>\n      <td>i can t believe it s spinach</td>\n      <td>38798</td>\n      <td>30</td>\n      <td>1533</td>\n      <td>2002-08-29</td>\n      <td>NaN</td>\n      <td>these were so go, it surprised even me.</td>\n      <td>8.0</td>\n      <td>39.0</td>\n    </tr>\n    <tr>\n      <th>3</th>\n      <td>italian  gut busters</td>\n      <td>35173</td>\n      <td>45</td>\n      <td>22724</td>\n      <td>2002-07-27</td>\n      <td>NaN</td>\n      <td>my sister-in-law made these for us at a family...</td>\n      <td>NaN</td>\n      <td>154.0</td>\n    </tr>\n    <tr>\n      <th>4</th>\n      <td>love is in the air  beef fondue   sauces</td>\n      <td>84797</td>\n      <td>25</td>\n      <td>4470</td>\n      <td>2004-02-23</td>\n      <td>4.0</td>\n      <td>i think a fondue is a very romantic casual din...</td>\n      <td>NaN</td>\n      <td>587.0</td>\n    </tr>\n  </tbody>\n</table>\n</div>"
     },
     "execution_count": 47,
     "metadata": {},
     "output_type": "execute_result"
    }
   ],
   "source": [
    "recipes['description_length']  = recipes['description'].str.len()\n",
    "recipes.head()"
   ],
   "metadata": {
    "collapsed": false,
    "pycharm": {
     "name": "#%%\n"
    }
   }
  },
  {
   "cell_type": "markdown",
   "metadata": {},
   "source": [
    "3.2 Измените название каждого рецепта в таблице `recipes` таким образом, чтобы каждое слово в названии начиналось с прописной буквы."
   ]
  },
  {
   "cell_type": "code",
   "execution_count": 48,
   "outputs": [
    {
     "data": {
      "text/plain": "                                       name     id  minutes  contributor_id  \\\n0     George S At The Cove  Black Bean Soup  44123       90           35193   \n1        Healthy For Them  Yogurt Popsicles  67664       10           91970   \n2              I Can T Believe It S Spinach  38798       30            1533   \n3                      Italian  Gut Busters  35173       45           22724   \n4  Love Is In The Air  Beef Fondue   Sauces  84797       25            4470   \n\n   submitted  n_steps                                        description  \\\n0 2002-10-25      NaN  an original recipe created by chef scott meska...   \n1 2003-07-26      NaN  my children and their friends ask for my homem...   \n2 2002-08-29      NaN            these were so go, it surprised even me.   \n3 2002-07-27      NaN  my sister-in-law made these for us at a family...   \n4 2004-02-23      4.0  i think a fondue is a very romantic casual din...   \n\n   n_ingredients  description_length  \n0           18.0               330.0  \n1            NaN               255.0  \n2            8.0                39.0  \n3            NaN               154.0  \n4            NaN               587.0  ",
      "text/html": "<div>\n<style scoped>\n    .dataframe tbody tr th:only-of-type {\n        vertical-align: middle;\n    }\n\n    .dataframe tbody tr th {\n        vertical-align: top;\n    }\n\n    .dataframe thead th {\n        text-align: right;\n    }\n</style>\n<table border=\"1\" class=\"dataframe\">\n  <thead>\n    <tr style=\"text-align: right;\">\n      <th></th>\n      <th>name</th>\n      <th>id</th>\n      <th>minutes</th>\n      <th>contributor_id</th>\n      <th>submitted</th>\n      <th>n_steps</th>\n      <th>description</th>\n      <th>n_ingredients</th>\n      <th>description_length</th>\n    </tr>\n  </thead>\n  <tbody>\n    <tr>\n      <th>0</th>\n      <td>George S At The Cove  Black Bean Soup</td>\n      <td>44123</td>\n      <td>90</td>\n      <td>35193</td>\n      <td>2002-10-25</td>\n      <td>NaN</td>\n      <td>an original recipe created by chef scott meska...</td>\n      <td>18.0</td>\n      <td>330.0</td>\n    </tr>\n    <tr>\n      <th>1</th>\n      <td>Healthy For Them  Yogurt Popsicles</td>\n      <td>67664</td>\n      <td>10</td>\n      <td>91970</td>\n      <td>2003-07-26</td>\n      <td>NaN</td>\n      <td>my children and their friends ask for my homem...</td>\n      <td>NaN</td>\n      <td>255.0</td>\n    </tr>\n    <tr>\n      <th>2</th>\n      <td>I Can T Believe It S Spinach</td>\n      <td>38798</td>\n      <td>30</td>\n      <td>1533</td>\n      <td>2002-08-29</td>\n      <td>NaN</td>\n      <td>these were so go, it surprised even me.</td>\n      <td>8.0</td>\n      <td>39.0</td>\n    </tr>\n    <tr>\n      <th>3</th>\n      <td>Italian  Gut Busters</td>\n      <td>35173</td>\n      <td>45</td>\n      <td>22724</td>\n      <td>2002-07-27</td>\n      <td>NaN</td>\n      <td>my sister-in-law made these for us at a family...</td>\n      <td>NaN</td>\n      <td>154.0</td>\n    </tr>\n    <tr>\n      <th>4</th>\n      <td>Love Is In The Air  Beef Fondue   Sauces</td>\n      <td>84797</td>\n      <td>25</td>\n      <td>4470</td>\n      <td>2004-02-23</td>\n      <td>4.0</td>\n      <td>i think a fondue is a very romantic casual din...</td>\n      <td>NaN</td>\n      <td>587.0</td>\n    </tr>\n  </tbody>\n</table>\n</div>"
     },
     "execution_count": 48,
     "metadata": {},
     "output_type": "execute_result"
    }
   ],
   "source": [
    "recipes['name']  = recipes['name'].str.title()\n",
    "recipes.head()"
   ],
   "metadata": {
    "collapsed": false,
    "pycharm": {
     "name": "#%%\n"
    }
   }
  },
  {
   "cell_type": "markdown",
   "metadata": {},
   "source": [
    "3.3 Добавьте в таблицу `recipes` столбец `name_word_count`, в котором хранится количество слов из названии рецепта (считайте, что слова в названии разделяются только пробелами)."
   ]
  },
  {
   "cell_type": "code",
   "execution_count": 49,
   "outputs": [],
   "source": [
    "recipes['name_word_count'] = recipes['name'].str.split().str.len()"
   ],
   "metadata": {
    "collapsed": false,
    "pycharm": {
     "name": "#%%\n"
    }
   }
  },
  {
   "cell_type": "code",
   "execution_count": 50,
   "outputs": [
    {
     "data": {
      "text/plain": "                                       name     id  minutes  contributor_id  \\\n0     George S At The Cove  Black Bean Soup  44123       90           35193   \n1        Healthy For Them  Yogurt Popsicles  67664       10           91970   \n2              I Can T Believe It S Spinach  38798       30            1533   \n3                      Italian  Gut Busters  35173       45           22724   \n4  Love Is In The Air  Beef Fondue   Sauces  84797       25            4470   \n\n   submitted  n_steps                                        description  \\\n0 2002-10-25      NaN  an original recipe created by chef scott meska...   \n1 2003-07-26      NaN  my children and their friends ask for my homem...   \n2 2002-08-29      NaN            these were so go, it surprised even me.   \n3 2002-07-27      NaN  my sister-in-law made these for us at a family...   \n4 2004-02-23      4.0  i think a fondue is a very romantic casual din...   \n\n   n_ingredients  description_length  name_word_count  \n0           18.0               330.0                8  \n1            NaN               255.0                5  \n2            8.0                39.0                7  \n3            NaN               154.0                3  \n4            NaN               587.0                8  ",
      "text/html": "<div>\n<style scoped>\n    .dataframe tbody tr th:only-of-type {\n        vertical-align: middle;\n    }\n\n    .dataframe tbody tr th {\n        vertical-align: top;\n    }\n\n    .dataframe thead th {\n        text-align: right;\n    }\n</style>\n<table border=\"1\" class=\"dataframe\">\n  <thead>\n    <tr style=\"text-align: right;\">\n      <th></th>\n      <th>name</th>\n      <th>id</th>\n      <th>minutes</th>\n      <th>contributor_id</th>\n      <th>submitted</th>\n      <th>n_steps</th>\n      <th>description</th>\n      <th>n_ingredients</th>\n      <th>description_length</th>\n      <th>name_word_count</th>\n    </tr>\n  </thead>\n  <tbody>\n    <tr>\n      <th>0</th>\n      <td>George S At The Cove  Black Bean Soup</td>\n      <td>44123</td>\n      <td>90</td>\n      <td>35193</td>\n      <td>2002-10-25</td>\n      <td>NaN</td>\n      <td>an original recipe created by chef scott meska...</td>\n      <td>18.0</td>\n      <td>330.0</td>\n      <td>8</td>\n    </tr>\n    <tr>\n      <th>1</th>\n      <td>Healthy For Them  Yogurt Popsicles</td>\n      <td>67664</td>\n      <td>10</td>\n      <td>91970</td>\n      <td>2003-07-26</td>\n      <td>NaN</td>\n      <td>my children and their friends ask for my homem...</td>\n      <td>NaN</td>\n      <td>255.0</td>\n      <td>5</td>\n    </tr>\n    <tr>\n      <th>2</th>\n      <td>I Can T Believe It S Spinach</td>\n      <td>38798</td>\n      <td>30</td>\n      <td>1533</td>\n      <td>2002-08-29</td>\n      <td>NaN</td>\n      <td>these were so go, it surprised even me.</td>\n      <td>8.0</td>\n      <td>39.0</td>\n      <td>7</td>\n    </tr>\n    <tr>\n      <th>3</th>\n      <td>Italian  Gut Busters</td>\n      <td>35173</td>\n      <td>45</td>\n      <td>22724</td>\n      <td>2002-07-27</td>\n      <td>NaN</td>\n      <td>my sister-in-law made these for us at a family...</td>\n      <td>NaN</td>\n      <td>154.0</td>\n      <td>3</td>\n    </tr>\n    <tr>\n      <th>4</th>\n      <td>Love Is In The Air  Beef Fondue   Sauces</td>\n      <td>84797</td>\n      <td>25</td>\n      <td>4470</td>\n      <td>2004-02-23</td>\n      <td>4.0</td>\n      <td>i think a fondue is a very romantic casual din...</td>\n      <td>NaN</td>\n      <td>587.0</td>\n      <td>8</td>\n    </tr>\n  </tbody>\n</table>\n</div>"
     },
     "execution_count": 50,
     "metadata": {},
     "output_type": "execute_result"
    }
   ],
   "source": [
    "recipes.head()"
   ],
   "metadata": {
    "collapsed": false,
    "pycharm": {
     "name": "#%%\n"
    }
   }
  },
  {
   "cell_type": "code",
   "execution_count": 50,
   "outputs": [],
   "source": [],
   "metadata": {
    "collapsed": false,
    "pycharm": {
     "name": "#%%\n"
    }
   }
  }
 ],
 "metadata": {
  "kernelspec": {
   "display_name": "Python 3",
   "language": "python",
   "name": "python3"
  },
  "language_info": {
   "codemirror_mode": {
    "name": "ipython",
    "version": 3
   },
   "file_extension": ".py",
   "mimetype": "text/x-python",
   "name": "python",
   "nbconvert_exporter": "python",
   "pygments_lexer": "ipython3",
   "version": "3.7.6"
  }
 },
 "nbformat": 4,
 "nbformat_minor": 4
}